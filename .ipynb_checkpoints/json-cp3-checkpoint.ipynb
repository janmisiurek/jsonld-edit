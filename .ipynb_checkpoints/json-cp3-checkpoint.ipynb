{
 "cells": [
  {
   "cell_type": "code",
   "execution_count": 1,
   "id": "57ef3547",
   "metadata": {},
   "outputs": [
    {
     "name": "stdout",
     "output_type": "stream",
     "text": [
      "Defaulting to user installation because normal site-packages is not writeable\n",
      "Requirement already satisfied: py2neo in /home/misiur/.local/lib/python3.10/site-packages (2021.2.3)\n",
      "Requirement already satisfied: packaging in /home/misiur/.local/lib/python3.10/site-packages (from py2neo) (23.0)\n",
      "Requirement already satisfied: pansi>=2020.7.3 in /home/misiur/.local/lib/python3.10/site-packages (from py2neo) (2020.7.3)\n",
      "Requirement already satisfied: interchange~=2021.0.4 in /home/misiur/.local/lib/python3.10/site-packages (from py2neo) (2021.0.4)\n",
      "Requirement already satisfied: certifi in /home/misiur/.local/lib/python3.10/site-packages (from py2neo) (2022.12.7)\n",
      "Requirement already satisfied: monotonic in /usr/lib/python3/dist-packages (from py2neo) (1.6)\n",
      "Requirement already satisfied: pygments>=2.0.0 in /home/misiur/.local/lib/python3.10/site-packages (from py2neo) (2.14.0)\n",
      "Requirement already satisfied: six>=1.15.0 in /usr/lib/python3/dist-packages (from py2neo) (1.16.0)\n",
      "Requirement already satisfied: urllib3 in /home/misiur/.local/lib/python3.10/site-packages (from py2neo) (1.26.14)\n",
      "Requirement already satisfied: pytz in /home/misiur/.local/lib/python3.10/site-packages (from interchange~=2021.0.4->py2neo) (2022.7.1)\n",
      "Defaulting to user installation because normal site-packages is not writeable\n",
      "Requirement already satisfied: neo4j in /home/misiur/.local/lib/python3.10/site-packages (5.6.0)\n",
      "Requirement already satisfied: pytz in /home/misiur/.local/lib/python3.10/site-packages (from neo4j) (2022.7.1)\n",
      "Defaulting to user installation because normal site-packages is not writeable\n",
      "Requirement already satisfied: chardet in /home/misiur/.local/lib/python3.10/site-packages (5.1.0)\n"
     ]
    }
   ],
   "source": [
    "!pip install py2neo\n",
    "!pip install neo4j\n",
    "!pip install chardet"
   ]
  },
  {
   "cell_type": "code",
   "execution_count": 5,
   "id": "addbd6be",
   "metadata": {},
   "outputs": [],
   "source": [
    "from py2neo import Graph\n",
    "\n",
    "NEO4J_URL = \"bolt://localhost:7687\"\n",
    "NEO4J_USERNAME = \"neo4j\"\n",
    "NEO4J_PASSWORD = \"neo4jop3\"\n",
    "\n",
    "graph = Graph(NEO4J_URL, auth=(NEO4J_USERNAME, NEO4J_PASSWORD))"
   ]
  },
  {
   "cell_type": "code",
   "execution_count": 6,
   "id": "18a04877",
   "metadata": {
    "scrolled": true
   },
   "outputs": [],
   "source": [
    "import json\n",
    "from py2neo import Graph, Node, Relationship\n",
    "\n",
    "def load_jsonld_file(file_path):\n",
    "    with open(file_path, 'r') as file:\n",
    "        content = file.read()\n",
    "        data = json.loads(content)\n",
    "    return data\n",
    "\n",
    "def process_item(item, graph, nodes, stack=None):\n",
    "    if stack is None:\n",
    "        stack = []\n",
    "\n",
    "    if isinstance(item, dict) and '@id' in item:\n",
    "        node = Node(item.get('@type', 'Node'), id=item['@id'])\n",
    "        nodes[item['@id']] = node\n",
    "\n",
    "        for key, value in item.items():\n",
    "            if key not in ('@id', '@type'):\n",
    "                if not (isinstance(value, dict) or isinstance(value, list)):\n",
    "                    node[key] = value\n",
    "\n",
    "            if key != '@id':\n",
    "                if isinstance(value, dict) and '@id' in value:\n",
    "                    if value['@id'] in nodes:\n",
    "                        related_node = nodes[value['@id']]\n",
    "                        relationship = Relationship(node, key, related_node)\n",
    "                        graph.create(relationship)\n",
    "                    else:\n",
    "                        stack.append((node, key, value))\n",
    "                    process_item(value, graph, nodes, stack)\n",
    "                elif isinstance(value, list):\n",
    "                    for related in value:\n",
    "                        if isinstance(related, dict) and '@id' in related:\n",
    "                            if related['@id'] in nodes:\n",
    "                                related_node = nodes[related['@id']]\n",
    "                                relationship = Relationship(node, key, related_node)\n",
    "                                graph.create(relationship)\n",
    "                            else:\n",
    "                                stack.append((node, key, related))\n",
    "                            process_item(related, graph, nodes, stack)\n",
    "\n",
    "    elif isinstance(item, list):\n",
    "        for subitem in item:\n",
    "            process_item(subitem, graph, nodes, stack)\n",
    "\n",
    "    while stack:\n",
    "        node, key, related = stack.pop()\n",
    "        if related['@id'] in nodes:\n",
    "            related_node = nodes[related['@id']]\n",
    "            relationship = Relationship(node, key, related_node)\n",
    "            graph.create(relationship)\n",
    "        else:\n",
    "            stack.append((node, key, related))\n",
    "\n",
    "\n",
    "\n",
    "\n",
    "data = load_jsonld_file(\"/home/misiur/Projects/json-cp/data5.json-ld\")\n",
    "nodes = {}\n",
    "process_item(data['@graph'], graph, nodes)\n"
   ]
  },
  {
   "cell_type": "code",
   "execution_count": 16,
   "id": "be5b5e0a",
   "metadata": {},
   "outputs": [
    {
     "ename": "TypeError",
     "evalue": "unhashable type: 'list'",
     "output_type": "error",
     "traceback": [
      "\u001b[0;31m---------------------------------------------------------------------------\u001b[0m",
      "\u001b[0;31mTypeError\u001b[0m                                 Traceback (most recent call last)",
      "Cell \u001b[0;32mIn[16], line 2\u001b[0m\n\u001b[1;32m      1\u001b[0m data \u001b[38;5;241m=\u001b[39m load_jsonld_file(\u001b[38;5;124m\"\u001b[39m\u001b[38;5;124m/home/misiur/Projects/json-cp/data6.jsonld\u001b[39m\u001b[38;5;124m\"\u001b[39m)\n\u001b[0;32m----> 2\u001b[0m \u001b[43mprocess_item\u001b[49m\u001b[43m(\u001b[49m\u001b[43mdata\u001b[49m\u001b[43m,\u001b[49m\u001b[43m \u001b[49m\u001b[43mgraph\u001b[49m\u001b[43m,\u001b[49m\u001b[43m \u001b[49m\u001b[43mnodes\u001b[49m\u001b[43m)\u001b[49m\n",
      "Cell \u001b[0;32mIn[6], line 31\u001b[0m, in \u001b[0;36mprocess_item\u001b[0;34m(item, graph, nodes, stack)\u001b[0m\n\u001b[1;32m     29\u001b[0m     \u001b[38;5;28;01melse\u001b[39;00m:\n\u001b[1;32m     30\u001b[0m         stack\u001b[38;5;241m.\u001b[39mappend((node, key, value))\n\u001b[0;32m---> 31\u001b[0m     \u001b[43mprocess_item\u001b[49m\u001b[43m(\u001b[49m\u001b[43mvalue\u001b[49m\u001b[43m,\u001b[49m\u001b[43m \u001b[49m\u001b[43mgraph\u001b[49m\u001b[43m,\u001b[49m\u001b[43m \u001b[49m\u001b[43mnodes\u001b[49m\u001b[43m,\u001b[49m\u001b[43m \u001b[49m\u001b[43mstack\u001b[49m\u001b[43m)\u001b[49m\n\u001b[1;32m     32\u001b[0m \u001b[38;5;28;01melif\u001b[39;00m \u001b[38;5;28misinstance\u001b[39m(value, \u001b[38;5;28mlist\u001b[39m):\n\u001b[1;32m     33\u001b[0m     \u001b[38;5;28;01mfor\u001b[39;00m related \u001b[38;5;129;01min\u001b[39;00m value:\n",
      "Cell \u001b[0;32mIn[6], line 15\u001b[0m, in \u001b[0;36mprocess_item\u001b[0;34m(item, graph, nodes, stack)\u001b[0m\n\u001b[1;32m     12\u001b[0m     stack \u001b[38;5;241m=\u001b[39m []\n\u001b[1;32m     14\u001b[0m \u001b[38;5;28;01mif\u001b[39;00m \u001b[38;5;28misinstance\u001b[39m(item, \u001b[38;5;28mdict\u001b[39m) \u001b[38;5;129;01mand\u001b[39;00m \u001b[38;5;124m'\u001b[39m\u001b[38;5;124m@id\u001b[39m\u001b[38;5;124m'\u001b[39m \u001b[38;5;129;01min\u001b[39;00m item:\n\u001b[0;32m---> 15\u001b[0m     node \u001b[38;5;241m=\u001b[39m \u001b[43mNode\u001b[49m\u001b[43m(\u001b[49m\u001b[43mitem\u001b[49m\u001b[38;5;241;43m.\u001b[39;49m\u001b[43mget\u001b[49m\u001b[43m(\u001b[49m\u001b[38;5;124;43m'\u001b[39;49m\u001b[38;5;124;43m@type\u001b[39;49m\u001b[38;5;124;43m'\u001b[39;49m\u001b[43m,\u001b[49m\u001b[43m \u001b[49m\u001b[38;5;124;43m'\u001b[39;49m\u001b[38;5;124;43mNode\u001b[39;49m\u001b[38;5;124;43m'\u001b[39;49m\u001b[43m)\u001b[49m\u001b[43m,\u001b[49m\u001b[43m \u001b[49m\u001b[38;5;28;43mid\u001b[39;49m\u001b[38;5;241;43m=\u001b[39;49m\u001b[43mitem\u001b[49m\u001b[43m[\u001b[49m\u001b[38;5;124;43m'\u001b[39;49m\u001b[38;5;124;43m@id\u001b[39;49m\u001b[38;5;124;43m'\u001b[39;49m\u001b[43m]\u001b[49m\u001b[43m)\u001b[49m\n\u001b[1;32m     16\u001b[0m     nodes[item[\u001b[38;5;124m'\u001b[39m\u001b[38;5;124m@id\u001b[39m\u001b[38;5;124m'\u001b[39m]] \u001b[38;5;241m=\u001b[39m node\n\u001b[1;32m     18\u001b[0m     \u001b[38;5;28;01mfor\u001b[39;00m key, value \u001b[38;5;129;01min\u001b[39;00m item\u001b[38;5;241m.\u001b[39mitems():\n",
      "File \u001b[0;32m~/.local/lib/python3.10/site-packages/py2neo/data.py:657\u001b[0m, in \u001b[0;36mNode.__init__\u001b[0;34m(self, *labels, **properties)\u001b[0m\n\u001b[1;32m    655\u001b[0m \u001b[38;5;28;01mdef\u001b[39;00m \u001b[38;5;21m__init__\u001b[39m(\u001b[38;5;28mself\u001b[39m, \u001b[38;5;241m*\u001b[39mlabels, \u001b[38;5;241m*\u001b[39m\u001b[38;5;241m*\u001b[39mproperties):\n\u001b[1;32m    656\u001b[0m     \u001b[38;5;28mself\u001b[39m\u001b[38;5;241m.\u001b[39m_remote_labels \u001b[38;5;241m=\u001b[39m \u001b[38;5;28mfrozenset\u001b[39m()\n\u001b[0;32m--> 657\u001b[0m     \u001b[38;5;28mself\u001b[39m\u001b[38;5;241m.\u001b[39m_labels \u001b[38;5;241m=\u001b[39m \u001b[38;5;28;43mset\u001b[39;49m\u001b[43m(\u001b[49m\u001b[43mlabels\u001b[49m\u001b[43m)\u001b[49m\n\u001b[1;32m    658\u001b[0m     Entity\u001b[38;5;241m.\u001b[39m\u001b[38;5;21m__init__\u001b[39m(\u001b[38;5;28mself\u001b[39m, (\u001b[38;5;28mself\u001b[39m,), properties)\n",
      "\u001b[0;31mTypeError\u001b[0m: unhashable type: 'list'"
     ]
    }
   ],
   "source": [
    "data = load_jsonld_file(\"/home/misiur/Projects/json-cp/data6.jsonld\")\n",
    "process_item(data['@graph'], graph, nodes)\n"
   ]
  },
  {
   "cell_type": "code",
   "execution_count": 161,
   "id": "65bb48db",
   "metadata": {},
   "outputs": [],
   "source": [
    "# MATCH (n)\n",
    "#OPTIONAL MATCH (n)-[r]-()\n",
    "#DELETE n, r\n"
   ]
  },
  {
   "cell_type": "code",
   "execution_count": 17,
   "id": "76c06295",
   "metadata": {
    "scrolled": true
   },
   "outputs": [
    {
     "name": "stdout",
     "output_type": "stream",
     "text": [
      "https://lab.scinfo.org.nz/selfie/id/aquifersystem/richelieu\n"
     ]
    }
   ],
   "source": [
    "print(data['@id'])"
   ]
  },
  {
   "cell_type": "code",
   "execution_count": null,
   "id": "fd5cdd16",
   "metadata": {},
   "outputs": [],
   "source": []
  }
 ],
 "metadata": {
  "kernelspec": {
   "display_name": "Python 3 (ipykernel)",
   "language": "python",
   "name": "python3"
  },
  "language_info": {
   "codemirror_mode": {
    "name": "ipython",
    "version": 3
   },
   "file_extension": ".py",
   "mimetype": "text/x-python",
   "name": "python",
   "nbconvert_exporter": "python",
   "pygments_lexer": "ipython3",
   "version": "3.10.6"
  }
 },
 "nbformat": 4,
 "nbformat_minor": 5
}
