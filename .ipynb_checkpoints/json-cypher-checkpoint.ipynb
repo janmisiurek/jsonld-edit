{
 "cells": [
  {
   "cell_type": "code",
   "execution_count": 1,
   "id": "57ef3547",
   "metadata": {},
   "outputs": [
    {
     "name": "stdout",
     "output_type": "stream",
     "text": [
      "Defaulting to user installation because normal site-packages is not writeable\n",
      "Requirement already satisfied: py2neo in /home/misiur/.local/lib/python3.10/site-packages (2021.2.3)\n",
      "Requirement already satisfied: six>=1.15.0 in /usr/lib/python3/dist-packages (from py2neo) (1.16.0)\n",
      "Requirement already satisfied: certifi in /home/misiur/.local/lib/python3.10/site-packages (from py2neo) (2022.12.7)\n",
      "Requirement already satisfied: interchange~=2021.0.4 in /home/misiur/.local/lib/python3.10/site-packages (from py2neo) (2021.0.4)\n",
      "Requirement already satisfied: monotonic in /usr/lib/python3/dist-packages (from py2neo) (1.6)\n",
      "Requirement already satisfied: urllib3 in /home/misiur/.local/lib/python3.10/site-packages (from py2neo) (1.26.14)\n",
      "Requirement already satisfied: pansi>=2020.7.3 in /home/misiur/.local/lib/python3.10/site-packages (from py2neo) (2020.7.3)\n",
      "Requirement already satisfied: packaging in /home/misiur/.local/lib/python3.10/site-packages (from py2neo) (23.0)\n",
      "Requirement already satisfied: pygments>=2.0.0 in /home/misiur/.local/lib/python3.10/site-packages (from py2neo) (2.14.0)\n",
      "Requirement already satisfied: pytz in /home/misiur/.local/lib/python3.10/site-packages (from interchange~=2021.0.4->py2neo) (2022.7.1)\n",
      "Defaulting to user installation because normal site-packages is not writeable\n",
      "Requirement already satisfied: neo4j in /home/misiur/.local/lib/python3.10/site-packages (5.6.0)\n",
      "Requirement already satisfied: pytz in /home/misiur/.local/lib/python3.10/site-packages (from neo4j) (2022.7.1)\n",
      "Defaulting to user installation because normal site-packages is not writeable\n",
      "Requirement already satisfied: chardet in /home/misiur/.local/lib/python3.10/site-packages (5.1.0)\n"
     ]
    }
   ],
   "source": [
    "!pip install py2neo\n",
    "!pip install neo4j\n",
    "!pip install chardet"
   ]
  },
  {
   "cell_type": "code",
   "execution_count": 13,
   "id": "addbd6be",
   "metadata": {},
   "outputs": [],
   "source": [
    "from py2neo import Graph\n",
    "\n",
    "NEO4J_URL = \"bolt://localhost:7687\"\n",
    "NEO4J_USERNAME = \"neo4j\"\n",
    "NEO4J_PASSWORD = \"neo4jop3\"\n",
    "\n",
    "graph = Graph(NEO4J_URL, auth=(NEO4J_USERNAME, NEO4J_PASSWORD))"
   ]
  },
  {
   "cell_type": "code",
   "execution_count": 14,
   "id": "18a04877",
   "metadata": {
    "scrolled": true
   },
   "outputs": [
    {
     "ename": "AttributeError",
     "evalue": "'list' object has no attribute 'run'",
     "output_type": "error",
     "traceback": [
      "\u001b[0;31m---------------------------------------------------------------------------\u001b[0m",
      "\u001b[0;31mAttributeError\u001b[0m                            Traceback (most recent call last)",
      "Cell \u001b[0;32mIn[14], line 67\u001b[0m\n\u001b[1;32m     60\u001b[0m         graph\u001b[38;5;241m.\u001b[39mrun(\u001b[38;5;124m\"\"\"\u001b[39m\n\u001b[1;32m     61\u001b[0m \u001b[38;5;124m        MATCH (a:`\u001b[39m\u001b[38;5;132;01m{}\u001b[39;00m\u001b[38;5;124m`), (b:`\u001b[39m\u001b[38;5;132;01m{}\u001b[39;00m\u001b[38;5;124m`)\u001b[39m\n\u001b[1;32m     62\u001b[0m \u001b[38;5;124m        WHERE a.id = $source AND b.id = $target\u001b[39m\n\u001b[1;32m     63\u001b[0m \u001b[38;5;124m        CREATE (a)-[r:\u001b[39m\u001b[38;5;132;01m{}\u001b[39;00m\u001b[38;5;124m]->(b)\u001b[39m\n\u001b[1;32m     64\u001b[0m \u001b[38;5;124m        \u001b[39m\u001b[38;5;124m\"\"\"\u001b[39m\u001b[38;5;241m.\u001b[39mformat(edge[\u001b[38;5;124m'\u001b[39m\u001b[38;5;124msource_type\u001b[39m\u001b[38;5;124m'\u001b[39m], edge[\u001b[38;5;124m'\u001b[39m\u001b[38;5;124mtarget_type\u001b[39m\u001b[38;5;124m'\u001b[39m], edge[\u001b[38;5;124m'\u001b[39m\u001b[38;5;124mtype\u001b[39m\u001b[38;5;124m'\u001b[39m]), source\u001b[38;5;241m=\u001b[39medge[\u001b[38;5;124m'\u001b[39m\u001b[38;5;124msource\u001b[39m\u001b[38;5;124m'\u001b[39m], target\u001b[38;5;241m=\u001b[39medge[\u001b[38;5;124m'\u001b[39m\u001b[38;5;124mtarget\u001b[39m\u001b[38;5;124m'\u001b[39m])\n\u001b[1;32m     66\u001b[0m data \u001b[38;5;241m=\u001b[39m load_jsonld_file(\u001b[38;5;124m\"\u001b[39m\u001b[38;5;124m/home/misiur/Projects/jsonld-neo/main.jsonld\u001b[39m\u001b[38;5;124m\"\u001b[39m)\n\u001b[0;32m---> 67\u001b[0m nodes, edges \u001b[38;5;241m=\u001b[39m \u001b[43mgenerate_cypher_queries\u001b[49m\u001b[43m(\u001b[49m\u001b[43mdata\u001b[49m\u001b[43m)\u001b[49m\n\u001b[1;32m     68\u001b[0m create_nodes_and_edges(graph, nodes, edges)\n",
      "Cell \u001b[0;32mIn[14], line 28\u001b[0m, in \u001b[0;36mgenerate_cypher_queries\u001b[0;34m(data)\u001b[0m\n\u001b[1;32m     25\u001b[0m nodes \u001b[38;5;241m=\u001b[39m []\n\u001b[1;32m     26\u001b[0m edges \u001b[38;5;241m=\u001b[39m []\n\u001b[0;32m---> 28\u001b[0m \u001b[43mprocess_item\u001b[49m\u001b[43m(\u001b[49m\u001b[43mdata\u001b[49m\u001b[43m,\u001b[49m\u001b[43m \u001b[49m\u001b[43mnodes\u001b[49m\u001b[43m,\u001b[49m\u001b[43m \u001b[49m\u001b[43medges\u001b[49m\u001b[43m)\u001b[49m\n\u001b[1;32m     30\u001b[0m \u001b[38;5;28;01mreturn\u001b[39;00m nodes, edges\n",
      "Cell \u001b[0;32mIn[14], line 37\u001b[0m, in \u001b[0;36mprocess_item\u001b[0;34m(item, graph, parent, relationship)\u001b[0m\n\u001b[1;32m     35\u001b[0m query \u001b[38;5;241m=\u001b[39m \u001b[38;5;124mf\u001b[39m\u001b[38;5;124m\"\u001b[39m\u001b[38;5;124mMERGE (n:`\u001b[39m\u001b[38;5;132;01m{\u001b[39;00mnode_type\u001b[38;5;132;01m}\u001b[39;00m\u001b[38;5;124m` \u001b[39m\u001b[38;5;130;01m{{\u001b[39;00m\u001b[38;5;124mid: $id\u001b[39m\u001b[38;5;130;01m}}\u001b[39;00m\u001b[38;5;124m) ON CREATE SET n += $props\u001b[39m\u001b[38;5;124m\"\u001b[39m\n\u001b[1;32m     36\u001b[0m props \u001b[38;5;241m=\u001b[39m {k: v \u001b[38;5;28;01mfor\u001b[39;00m k, v \u001b[38;5;129;01min\u001b[39;00m item\u001b[38;5;241m.\u001b[39mitems() \u001b[38;5;28;01mif\u001b[39;00m k \u001b[38;5;129;01mnot\u001b[39;00m \u001b[38;5;129;01min\u001b[39;00m [\u001b[38;5;124m'\u001b[39m\u001b[38;5;124m@id\u001b[39m\u001b[38;5;124m'\u001b[39m, \u001b[38;5;124m'\u001b[39m\u001b[38;5;124m@type\u001b[39m\u001b[38;5;124m'\u001b[39m]}\n\u001b[0;32m---> 37\u001b[0m \u001b[43mgraph\u001b[49m\u001b[38;5;241;43m.\u001b[39;49m\u001b[43mrun\u001b[49m(query, \u001b[38;5;28mid\u001b[39m\u001b[38;5;241m=\u001b[39mitem[\u001b[38;5;124m'\u001b[39m\u001b[38;5;124m@id\u001b[39m\u001b[38;5;124m'\u001b[39m], props\u001b[38;5;241m=\u001b[39mprops)\n\u001b[1;32m     39\u001b[0m \u001b[38;5;28;01mif\u001b[39;00m parent:\n\u001b[1;32m     40\u001b[0m     rel_query \u001b[38;5;241m=\u001b[39m \u001b[38;5;124mf\u001b[39m\u001b[38;5;124m\"\u001b[39m\u001b[38;5;124mMATCH (a), (b) WHERE a.id = $parent_id AND b.id = $child_id MERGE (a)-[:`\u001b[39m\u001b[38;5;132;01m{\u001b[39;00mrelationship\u001b[38;5;132;01m}\u001b[39;00m\u001b[38;5;124m`]->(b)\u001b[39m\u001b[38;5;124m\"\u001b[39m\n",
      "\u001b[0;31mAttributeError\u001b[0m: 'list' object has no attribute 'run'"
     ]
    }
   ],
   "source": [
    "import json\n",
    "from py2neo import Graph\n",
    "from pyld import jsonld\n",
    "import string\n",
    "import chardet\n",
    "\n",
    "def load_jsonld_file(file_path):\n",
    "    with open(file_path, 'rb') as file:\n",
    "        content = file.read()\n",
    "        encoding = chardet.detect(content)['encoding']\n",
    "        content = content.decode(encoding).encode('utf-8', 'ignore').decode('utf-8')\n",
    "        data = json.loads(content)\n",
    "    return data\n",
    "\n",
    "def flatten_dict(dictionary, prefix=''):\n",
    "    flattened = {}\n",
    "    for key, value in dictionary.items():\n",
    "        if isinstance(value, dict):\n",
    "            flattened.update(flatten_dict(value, f\"{prefix}{key}_\"))\n",
    "        else:\n",
    "            flattened[f\"{prefix}{key}\"] = str(value)\n",
    "    return flattened\n",
    "\n",
    "def generate_cypher_queries(data):\n",
    "    nodes = []\n",
    "    edges = []\n",
    "\n",
    "    process_item(data, nodes, edges)\n",
    "\n",
    "    return nodes, edges\n",
    "\n",
    "def process_item(item, graph, parent=None, relationship=None):\n",
    "    if isinstance(item, dict) and '@id' in item:\n",
    "        node_type = item.get('@type', 'Node')\n",
    "        query = f\"MERGE (n:`{node_type}` {{id: $id}}) ON CREATE SET n += $props\"\n",
    "        props = {k: v for k, v in item.items() if k not in ['@id', '@type']}\n",
    "        graph.run(query, id=item['@id'], props=props)\n",
    "\n",
    "        if parent:\n",
    "            rel_query = f\"MATCH (a), (b) WHERE a.id = $parent_id AND b.id = $child_id MERGE (a)-[:`{relationship}`]->(b)\"\n",
    "            graph.run(rel_query, parent_id=parent['@id'], child_id=item['@id'])\n",
    "\n",
    "        for key, value in item.items():\n",
    "            if isinstance(value, list):\n",
    "                for related in value:\n",
    "                    process_item(related, graph, parent=item, relationship=key)\n",
    "    elif isinstance(item, list):\n",
    "        for subitem in item:\n",
    "            process_item(subitem, graph, parent=parent, relationship=relationship)\n",
    "\n",
    "\n",
    "def create_nodes_and_edges(graph, nodes, edges):\n",
    "    for node in nodes:\n",
    "        label = node.get(\"@type\", \"Node\")\n",
    "        properties = {k: v for k, v in flatten_dict(node).items() if k != \"id\" and k != \"@type\"}\n",
    "        query = f\"CREATE (n:`{label}` {{id: $id}}) SET n += $props\"\n",
    "        graph.run(query, id=node[\"id\"], props=properties)\n",
    "\n",
    "    for edge in edges:\n",
    "        graph.run(\"\"\"\n",
    "        MATCH (a:`{}`), (b:`{}`)\n",
    "        WHERE a.id = $source AND b.id = $target\n",
    "        CREATE (a)-[r:{}]->(b)\n",
    "        \"\"\".format(edge['source_type'], edge['target_type'], edge['type']), source=edge['source'], target=edge['target'])\n",
    "\n",
    "data = load_jsonld_file(\"/home/misiur/Projects/jsonld-neo/main.jsonld\")\n",
    "nodes, edges = generate_cypher_queries(data)\n",
    "create_nodes_and_edges(graph, nodes, edges)\n"
   ]
  },
  {
   "cell_type": "code",
   "execution_count": 16,
   "id": "be5b5e0a",
   "metadata": {},
   "outputs": [
    {
     "ename": "ClientError",
     "evalue": "[Statement.TypeError] Property values can only be of primitive types or arrays thereof. Encountered: Map{proj:name -> String(\"Flask\"), proj:version -> String(\"2.1.1\"), @type -> String(\"lib\")}.",
     "output_type": "error",
     "traceback": [
      "\u001b[0;31m---------------------------------------------------------------------------\u001b[0m",
      "\u001b[0;31mClientError\u001b[0m                               Traceback (most recent call last)",
      "Cell \u001b[0;32mIn[16], line 54\u001b[0m\n\u001b[1;32m     51\u001b[0m             process_item(subitem, graph, parent\u001b[38;5;241m=\u001b[39mparent, relationship\u001b[38;5;241m=\u001b[39mrelationship)\n\u001b[1;32m     53\u001b[0m data \u001b[38;5;241m=\u001b[39m load_jsonld_file(\u001b[38;5;124m\"\u001b[39m\u001b[38;5;124m/home/misiur/Projects/jsonld-neo/main.jsonld\u001b[39m\u001b[38;5;124m\"\u001b[39m)\n\u001b[0;32m---> 54\u001b[0m \u001b[43mgenerate_cypher_queries\u001b[49m\u001b[43m(\u001b[49m\u001b[43mdata\u001b[49m\u001b[43m,\u001b[49m\u001b[43m \u001b[49m\u001b[43mgraph\u001b[49m\u001b[43m)\u001b[49m\n",
      "Cell \u001b[0;32mIn[16], line 32\u001b[0m, in \u001b[0;36mgenerate_cypher_queries\u001b[0;34m(data, graph)\u001b[0m\n\u001b[1;32m     31\u001b[0m \u001b[38;5;28;01mdef\u001b[39;00m \u001b[38;5;21mgenerate_cypher_queries\u001b[39m(data, graph):\n\u001b[0;32m---> 32\u001b[0m     \u001b[43mprocess_item\u001b[49m\u001b[43m(\u001b[49m\u001b[43mdata\u001b[49m\u001b[43m,\u001b[49m\u001b[43m \u001b[49m\u001b[43mgraph\u001b[49m\u001b[43m)\u001b[49m\n",
      "Cell \u001b[0;32mIn[16], line 39\u001b[0m, in \u001b[0;36mprocess_item\u001b[0;34m(item, graph, parent, relationship)\u001b[0m\n\u001b[1;32m     37\u001b[0m query \u001b[38;5;241m=\u001b[39m \u001b[38;5;124mf\u001b[39m\u001b[38;5;124m\"\u001b[39m\u001b[38;5;124mMERGE (n:`\u001b[39m\u001b[38;5;132;01m{\u001b[39;00mnode_type\u001b[38;5;132;01m}\u001b[39;00m\u001b[38;5;124m` \u001b[39m\u001b[38;5;130;01m{{\u001b[39;00m\u001b[38;5;124mid: $id\u001b[39m\u001b[38;5;130;01m}}\u001b[39;00m\u001b[38;5;124m) ON CREATE SET n += $props\u001b[39m\u001b[38;5;124m\"\u001b[39m\n\u001b[1;32m     38\u001b[0m props \u001b[38;5;241m=\u001b[39m {k: v \u001b[38;5;28;01mfor\u001b[39;00m k, v \u001b[38;5;129;01min\u001b[39;00m item\u001b[38;5;241m.\u001b[39mitems() \u001b[38;5;28;01mif\u001b[39;00m k \u001b[38;5;129;01mnot\u001b[39;00m \u001b[38;5;129;01min\u001b[39;00m [\u001b[38;5;124m'\u001b[39m\u001b[38;5;124m@id\u001b[39m\u001b[38;5;124m'\u001b[39m, \u001b[38;5;124m'\u001b[39m\u001b[38;5;124m@type\u001b[39m\u001b[38;5;124m'\u001b[39m]}\n\u001b[0;32m---> 39\u001b[0m \u001b[43mgraph\u001b[49m\u001b[38;5;241;43m.\u001b[39;49m\u001b[43mrun\u001b[49m\u001b[43m(\u001b[49m\u001b[43mquery\u001b[49m\u001b[43m,\u001b[49m\u001b[43m \u001b[49m\u001b[38;5;28;43mid\u001b[39;49m\u001b[38;5;241;43m=\u001b[39;49m\u001b[43mitem\u001b[49m\u001b[43m[\u001b[49m\u001b[38;5;124;43m'\u001b[39;49m\u001b[38;5;124;43m@id\u001b[39;49m\u001b[38;5;124;43m'\u001b[39;49m\u001b[43m]\u001b[49m\u001b[43m,\u001b[49m\u001b[43m \u001b[49m\u001b[43mprops\u001b[49m\u001b[38;5;241;43m=\u001b[39;49m\u001b[43mprops\u001b[49m\u001b[43m)\u001b[49m\n\u001b[1;32m     41\u001b[0m \u001b[38;5;28;01mif\u001b[39;00m parent:\n\u001b[1;32m     42\u001b[0m     rel_query \u001b[38;5;241m=\u001b[39m \u001b[38;5;124mf\u001b[39m\u001b[38;5;124m\"\u001b[39m\u001b[38;5;124mMATCH (a), (b) WHERE a.id = $parent_id AND b.id = $child_id MERGE (a)-[:`\u001b[39m\u001b[38;5;132;01m{\u001b[39;00mrelationship\u001b[38;5;132;01m}\u001b[39;00m\u001b[38;5;124m`]->(b)\u001b[39m\u001b[38;5;124m\"\u001b[39m\n",
      "File \u001b[0;32m~/.local/lib/python3.10/site-packages/py2neo/database.py:405\u001b[0m, in \u001b[0;36mGraph.run\u001b[0;34m(self, cypher, parameters, **kwparameters)\u001b[0m\n\u001b[1;32m    395\u001b[0m \u001b[38;5;28;01mdef\u001b[39;00m \u001b[38;5;21mrun\u001b[39m(\u001b[38;5;28mself\u001b[39m, cypher, parameters\u001b[38;5;241m=\u001b[39m\u001b[38;5;28;01mNone\u001b[39;00m, \u001b[38;5;241m*\u001b[39m\u001b[38;5;241m*\u001b[39mkwparameters):\n\u001b[1;32m    396\u001b[0m \u001b[38;5;250m    \u001b[39m\u001b[38;5;124;03m\"\"\" Run a single read/write query within an auto-commit\u001b[39;00m\n\u001b[1;32m    397\u001b[0m \u001b[38;5;124;03m    :class:`~py2neo.Transaction`.\u001b[39;00m\n\u001b[1;32m    398\u001b[0m \n\u001b[0;32m   (...)\u001b[0m\n\u001b[1;32m    403\u001b[0m \u001b[38;5;124;03m    :return:\u001b[39;00m\n\u001b[1;32m    404\u001b[0m \u001b[38;5;124;03m    \"\"\"\u001b[39;00m\n\u001b[0;32m--> 405\u001b[0m     \u001b[38;5;28;01mreturn\u001b[39;00m \u001b[38;5;28;43mself\u001b[39;49m\u001b[38;5;241;43m.\u001b[39;49m\u001b[43mauto\u001b[49m\u001b[43m(\u001b[49m\u001b[43m)\u001b[49m\u001b[38;5;241;43m.\u001b[39;49m\u001b[43mrun\u001b[49m\u001b[43m(\u001b[49m\u001b[43mcypher\u001b[49m\u001b[43m,\u001b[49m\u001b[43m \u001b[49m\u001b[43mparameters\u001b[49m\u001b[43m,\u001b[49m\u001b[43m \u001b[49m\u001b[38;5;241;43m*\u001b[39;49m\u001b[38;5;241;43m*\u001b[39;49m\u001b[43mkwparameters\u001b[49m\u001b[43m)\u001b[49m\n",
      "File \u001b[0;32m~/.local/lib/python3.10/site-packages/py2neo/database.py:992\u001b[0m, in \u001b[0;36mTransaction.run\u001b[0;34m(self, cypher, parameters, **kwparameters)\u001b[0m\n\u001b[1;32m    988\u001b[0m     \u001b[38;5;28;01melse\u001b[39;00m:\n\u001b[1;32m    989\u001b[0m         result \u001b[38;5;241m=\u001b[39m \u001b[38;5;28mself\u001b[39m\u001b[38;5;241m.\u001b[39m_connector\u001b[38;5;241m.\u001b[39mauto_run(cypher, parameters,\n\u001b[1;32m    990\u001b[0m                                           graph_name\u001b[38;5;241m=\u001b[39m\u001b[38;5;28mself\u001b[39m\u001b[38;5;241m.\u001b[39mgraph\u001b[38;5;241m.\u001b[39mname,\n\u001b[1;32m    991\u001b[0m                                           readonly\u001b[38;5;241m=\u001b[39m\u001b[38;5;28mself\u001b[39m\u001b[38;5;241m.\u001b[39mreadonly)\n\u001b[0;32m--> 992\u001b[0m     \u001b[38;5;28;43mself\u001b[39;49m\u001b[38;5;241;43m.\u001b[39;49m\u001b[43m_connector\u001b[49m\u001b[38;5;241;43m.\u001b[39;49m\u001b[43mpull\u001b[49m\u001b[43m(\u001b[49m\u001b[43mresult\u001b[49m\u001b[43m,\u001b[49m\u001b[43m \u001b[49m\u001b[38;5;241;43m-\u001b[39;49m\u001b[38;5;241;43m1\u001b[39;49m\u001b[43m)\u001b[49m\n\u001b[1;32m    993\u001b[0m     \u001b[38;5;28;01mreturn\u001b[39;00m Cursor(result, hydrant)\n\u001b[1;32m    994\u001b[0m \u001b[38;5;28;01mfinally\u001b[39;00m:\n",
      "File \u001b[0;32m~/.local/lib/python3.10/site-packages/py2neo/client/__init__.py:1434\u001b[0m, in \u001b[0;36mConnector.pull\u001b[0;34m(self, result, n)\u001b[0m\n\u001b[1;32m   1432\u001b[0m cx \u001b[38;5;241m=\u001b[39m \u001b[38;5;28mself\u001b[39m\u001b[38;5;241m.\u001b[39m_reacquire(result\u001b[38;5;241m.\u001b[39mtransaction)\n\u001b[1;32m   1433\u001b[0m \u001b[38;5;28;01mtry\u001b[39;00m:\n\u001b[0;32m-> 1434\u001b[0m     \u001b[43mcx\u001b[49m\u001b[38;5;241;43m.\u001b[39;49m\u001b[43mpull\u001b[49m\u001b[43m(\u001b[49m\u001b[43mresult\u001b[49m\u001b[43m,\u001b[49m\u001b[43m \u001b[49m\u001b[43mn\u001b[49m\u001b[38;5;241;43m=\u001b[39;49m\u001b[43mn\u001b[49m\u001b[43m)\u001b[49m\n\u001b[1;32m   1435\u001b[0m \u001b[38;5;28;01mexcept\u001b[39;00m (ConnectionUnavailable, ConnectionBroken):\n\u001b[1;32m   1436\u001b[0m     \u001b[38;5;28mself\u001b[39m\u001b[38;5;241m.\u001b[39mprune(cx\u001b[38;5;241m.\u001b[39mprofile)\n",
      "File \u001b[0;32m~/.local/lib/python3.10/site-packages/py2neo/client/bolt.py:1001\u001b[0m, in \u001b[0;36mBolt4x0.pull\u001b[0;34m(self, result, n, capacity)\u001b[0m\n\u001b[1;32m    998\u001b[0m     raise_from(ConnectionBroken(\u001b[38;5;124m\"\u001b[39m\u001b[38;5;124mTransaction broken by disconnection \u001b[39m\u001b[38;5;124m\"\u001b[39m\n\u001b[1;32m    999\u001b[0m                                 \u001b[38;5;124m\"\u001b[39m\u001b[38;5;124mduring pull\u001b[39m\u001b[38;5;124m\"\u001b[39m), error)\n\u001b[1;32m   1000\u001b[0m \u001b[38;5;28;01melse\u001b[39;00m:\n\u001b[0;32m-> 1001\u001b[0m     \u001b[38;5;28;43mself\u001b[39;49m\u001b[38;5;241;43m.\u001b[39;49m\u001b[43m_audit\u001b[49m\u001b[43m(\u001b[49m\u001b[38;5;28;43mself\u001b[39;49m\u001b[38;5;241;43m.\u001b[39;49m\u001b[43m_transaction\u001b[49m\u001b[43m)\u001b[49m\n\u001b[1;32m   1002\u001b[0m     \u001b[38;5;28;01mreturn\u001b[39;00m response\n",
      "File \u001b[0;32m~/.local/lib/python3.10/site-packages/py2neo/client/bolt.py:810\u001b[0m, in \u001b[0;36mBolt1._audit\u001b[0;34m(self, task)\u001b[0m\n\u001b[1;32m    808\u001b[0m     \u001b[38;5;28;01mreturn\u001b[39;00m\n\u001b[1;32m    809\u001b[0m \u001b[38;5;28;01mtry\u001b[39;00m:\n\u001b[0;32m--> 810\u001b[0m     \u001b[43mtask\u001b[49m\u001b[38;5;241;43m.\u001b[39;49m\u001b[43maudit\u001b[49m\u001b[43m(\u001b[49m\u001b[43m)\u001b[49m\n\u001b[1;32m    811\u001b[0m \u001b[38;5;28;01mexcept\u001b[39;00m Neo4jError:\n\u001b[1;32m    812\u001b[0m     \u001b[38;5;28mself\u001b[39m\u001b[38;5;241m.\u001b[39mreset(force\u001b[38;5;241m=\u001b[39m\u001b[38;5;28;01mTrue\u001b[39;00m)\n",
      "File \u001b[0;32m~/.local/lib/python3.10/site-packages/py2neo/client/bolt.py:1140\u001b[0m, in \u001b[0;36mItemizedTask.audit\u001b[0;34m(self)\u001b[0m\n\u001b[1;32m   1138\u001b[0m \u001b[38;5;28;01mdef\u001b[39;00m \u001b[38;5;21maudit\u001b[39m(\u001b[38;5;28mself\u001b[39m):\n\u001b[1;32m   1139\u001b[0m     \u001b[38;5;28;01mfor\u001b[39;00m item \u001b[38;5;129;01min\u001b[39;00m \u001b[38;5;28mself\u001b[39m\u001b[38;5;241m.\u001b[39m_items:\n\u001b[0;32m-> 1140\u001b[0m         \u001b[43mitem\u001b[49m\u001b[38;5;241;43m.\u001b[39;49m\u001b[43maudit\u001b[49m\u001b[43m(\u001b[49m\u001b[43m)\u001b[49m\n",
      "File \u001b[0;32m~/.local/lib/python3.10/site-packages/py2neo/client/bolt.py:1140\u001b[0m, in \u001b[0;36mItemizedTask.audit\u001b[0;34m(self)\u001b[0m\n\u001b[1;32m   1138\u001b[0m \u001b[38;5;28;01mdef\u001b[39;00m \u001b[38;5;21maudit\u001b[39m(\u001b[38;5;28mself\u001b[39m):\n\u001b[1;32m   1139\u001b[0m     \u001b[38;5;28;01mfor\u001b[39;00m item \u001b[38;5;129;01min\u001b[39;00m \u001b[38;5;28mself\u001b[39m\u001b[38;5;241m.\u001b[39m_items:\n\u001b[0;32m-> 1140\u001b[0m         \u001b[43mitem\u001b[49m\u001b[38;5;241;43m.\u001b[39;49m\u001b[43maudit\u001b[49m\u001b[43m(\u001b[49m\u001b[43m)\u001b[49m\n",
      "File \u001b[0;32m~/.local/lib/python3.10/site-packages/py2neo/client/bolt.py:1303\u001b[0m, in \u001b[0;36mBoltResponse.audit\u001b[0;34m(self)\u001b[0m\n\u001b[1;32m   1301\u001b[0m \u001b[38;5;28;01mif\u001b[39;00m \u001b[38;5;28mself\u001b[39m\u001b[38;5;241m.\u001b[39m_failure:\n\u001b[1;32m   1302\u001b[0m     \u001b[38;5;28mself\u001b[39m\u001b[38;5;241m.\u001b[39mset_ignored()\n\u001b[0;32m-> 1303\u001b[0m     \u001b[38;5;28;01mraise\u001b[39;00m \u001b[38;5;28mself\u001b[39m\u001b[38;5;241m.\u001b[39m_failure\n",
      "\u001b[0;31mClientError\u001b[0m: [Statement.TypeError] Property values can only be of primitive types or arrays thereof. Encountered: Map{proj:name -> String(\"Flask\"), proj:version -> String(\"2.1.1\"), @type -> String(\"lib\")}."
     ]
    }
   ],
   "source": [
    "#najnowsza wersja jsonld o aplikacji do neo4j\n",
    "import json\n",
    "from py2neo import Graph\n",
    "from pyld import jsonld\n",
    "import string\n",
    "import chardet\n",
    "\n",
    "NEO4J_URL = \"bolt://localhost:7687\"\n",
    "NEO4J_USERNAME = \"neo4j\"\n",
    "NEO4J_PASSWORD = \"neo4jop3\"\n",
    "\n",
    "graph = Graph(NEO4J_URL, auth=(NEO4J_USERNAME, NEO4J_PASSWORD))\n",
    "\n",
    "def load_jsonld_file(file_path):\n",
    "    with open(file_path, 'rb') as file:\n",
    "        content = file.read()\n",
    "        encoding = chardet.detect(content)['encoding']\n",
    "        content = content.decode(encoding).encode('utf-8', 'ignore').decode('utf-8')\n",
    "        data = json.loads(content)\n",
    "    return data\n",
    "\n",
    "def flatten_dict(dictionary, prefix=''):\n",
    "    flattened = {}\n",
    "    for key, value in dictionary.items():\n",
    "        if isinstance(value, dict):\n",
    "            flattened.update(flatten_dict(value, f\"{prefix}{key}_\"))\n",
    "        else:\n",
    "            flattened[f\"{prefix}{key}\"] = value\n",
    "    return flattened\n",
    "\n",
    "\n",
    "def generate_cypher_queries(data, graph):\n",
    "    process_item(data, graph)\n",
    "\n",
    "def process_item(item, graph, parent=None, relationship=None):\n",
    "    if isinstance(item, dict) and '@id' in item:\n",
    "        node_type = item.get('@type', 'Node')\n",
    "        query = f\"MERGE (n:`{node_type}` {{id: $id}}) ON CREATE SET n += $props\"\n",
    "        props = {k: v for k, v in item.items() if k not in ['@id', '@type']}\n",
    "        graph.run(query, id=item['@id'], props=props)\n",
    "\n",
    "        if parent:\n",
    "            rel_query = f\"MATCH (a), (b) WHERE a.id = $parent_id AND b.id = $child_id MERGE (a)-[:`{relationship}`]->(b)\"\n",
    "            graph.run(rel_query, parent_id=parent['@id'], child_id=item['@id'])\n",
    "\n",
    "        for key, value in item.items():\n",
    "            if isinstance(value, list):\n",
    "                for related in value:\n",
    "                    process_item(related, graph, parent=item, relationship=key)\n",
    "    elif isinstance(item, list):\n",
    "        for subitem in item:\n",
    "            process_item(subitem, graph, parent=parent, relationship=relationship)\n",
    "\n",
    "data = load_jsonld_file(\"/home/misiur/Projects/jsonld-neo/main.jsonld\")\n",
    "generate_cypher_queries(data, graph)\n"
   ]
  },
  {
   "cell_type": "code",
   "execution_count": 161,
   "id": "65bb48db",
   "metadata": {},
   "outputs": [],
   "source": [
    "# MATCH (n)\n",
    "#OPTIONAL MATCH (n)-[r]-()\n",
    "#DELETE n, r\n"
   ]
  },
  {
   "cell_type": "code",
   "execution_count": 4,
   "id": "76c06295",
   "metadata": {
    "scrolled": true
   },
   "outputs": [
    {
     "name": "stdout",
     "output_type": "stream",
     "text": [
      "{'@context': {'proj': 'https://example.com/project#', 'app': 'proj:Application', 'lib': 'proj:Library', 'file': 'proj:File', 'func': 'proj:Function', 'param': 'proj:Parameter', 'return': 'proj:Return', 'uses': 'proj:uses', 'implements': 'proj:implements', 'includes': 'proj:includes', 'hasParam': 'proj:hasParameter', 'hasReturn': 'proj:hasReturn'}, '@id': 'proj:flaskApp', '@type': 'app', 'proj:name': 'Flask Application', 'proj:version': '1.0.0', 'proj:description': 'A Flask application for uploading and processing JSON-LD files or inputting JSON-LD text and interacting with a Neo4j database', 'uses': [{'@type': 'lib', 'proj:name': 'Flask', 'proj:version': '2.1.1'}, {'@type': 'lib', 'proj:name': 'Jinja2', 'proj:version': '3.1.0'}, {'@type': 'lib', 'proj:name': 'Werkzeug', 'proj:version': '2.1.1'}, {'@type': 'lib', 'proj:name': 'py2neo', 'proj:version': '2021.1.3'}], 'includes': [{'@type': 'file', 'proj:name': 'app.py', 'implements': [{'@type': 'func', 'proj:name': 'index', 'proj:description': 'Renders the index page with the file upload and text input forms', 'proj:code': 'def index():\\n    # Function implementation...', 'hasParam': [], 'hasReturn': {'@type': 'return', 'proj:type': 'str', 'proj:description': 'Rendered index HTML template'}}, {'@type': 'func', 'proj:name': 'upload_file', 'proj:description': 'Handles file uploading and processing JSON-LD data', 'proj:code': 'def upload_file():\\n    # Function implementation...', 'hasParam': [], 'hasReturn': {'@type': 'return', 'proj:type': 'str', 'proj:description': 'Result of the file processing or error message'}}, {'@type': 'func', 'proj:name': 'process_text', 'proj:description': 'Handles processing JSON-LD data from text input', 'proj:code': 'def process_text():\\n    # Function implementation...', 'hasParam': [], 'hasReturn': {'@type': 'return', 'proj:type': 'str', 'proj:description': 'Result of the text processing or error message'}}, {'@type': 'func', 'proj:name': 'connect_to_neo4j', 'proj:description': 'Establishes a connection to the Neo4j database using py2neo', 'proj:code': 'def connect_to_neo4j():\\n # Function implementation...', 'hasParam': [{'@type': 'param', 'proj:name': 'uri', 'proj:type': 'str', 'proj:description': 'The URI of the Neo4j database'}, {'@type': 'param', 'proj:name': 'username', 'proj:type': 'str', 'proj:description': 'The username for the Neo4j database'}, {'@type': 'param', 'proj:name': 'password', 'proj:type': 'str', 'proj:description': 'The password for the Neo4j database'}], 'hasReturn': {'@type': 'return', 'proj:type': 'py2neo.Graph', 'proj:description': 'A Graph object representing the connection to the Neo4j database'}}]}, {'@type': 'file', 'proj:name': 'templates/index.html', 'proj:description': 'Jinja2 HTML template for the index page', 'implements': []}]}\n"
     ]
    }
   ],
   "source": [
    "print(data)"
   ]
  },
  {
   "cell_type": "code",
   "execution_count": null,
   "id": "fd5cdd16",
   "metadata": {},
   "outputs": [],
   "source": []
  }
 ],
 "metadata": {
  "kernelspec": {
   "display_name": "Python 3 (ipykernel)",
   "language": "python",
   "name": "python3"
  },
  "language_info": {
   "codemirror_mode": {
    "name": "ipython",
    "version": 3
   },
   "file_extension": ".py",
   "mimetype": "text/x-python",
   "name": "python",
   "nbconvert_exporter": "python",
   "pygments_lexer": "ipython3",
   "version": "3.10.6"
  }
 },
 "nbformat": 4,
 "nbformat_minor": 5
}
