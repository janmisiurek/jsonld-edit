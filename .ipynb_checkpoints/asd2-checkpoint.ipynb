{
 "cells": [
  {
   "cell_type": "code",
   "execution_count": 118,
   "id": "57ef3547",
   "metadata": {},
   "outputs": [
    {
     "name": "stdout",
     "output_type": "stream",
     "text": [
      "Defaulting to user installation because normal site-packages is not writeable\n",
      "Requirement already satisfied: py2neo in /home/misiur/.local/lib/python3.10/site-packages (2021.2.3)\n",
      "Requirement already satisfied: urllib3 in /home/misiur/.local/lib/python3.10/site-packages (from py2neo) (1.26.14)\n",
      "Requirement already satisfied: packaging in /home/misiur/.local/lib/python3.10/site-packages (from py2neo) (23.0)\n",
      "Requirement already satisfied: six>=1.15.0 in /usr/lib/python3/dist-packages (from py2neo) (1.16.0)\n",
      "Requirement already satisfied: monotonic in /usr/lib/python3/dist-packages (from py2neo) (1.6)\n",
      "Requirement already satisfied: interchange~=2021.0.4 in /home/misiur/.local/lib/python3.10/site-packages (from py2neo) (2021.0.4)\n",
      "Requirement already satisfied: pygments>=2.0.0 in /home/misiur/.local/lib/python3.10/site-packages (from py2neo) (2.14.0)\n",
      "Requirement already satisfied: certifi in /home/misiur/.local/lib/python3.10/site-packages (from py2neo) (2022.12.7)\n",
      "Requirement already satisfied: pansi>=2020.7.3 in /home/misiur/.local/lib/python3.10/site-packages (from py2neo) (2020.7.3)\n",
      "Requirement already satisfied: pytz in /home/misiur/.local/lib/python3.10/site-packages (from interchange~=2021.0.4->py2neo) (2022.7.1)\n",
      "Defaulting to user installation because normal site-packages is not writeable\n",
      "Requirement already satisfied: neo4j in /home/misiur/.local/lib/python3.10/site-packages (5.6.0)\n",
      "Requirement already satisfied: pytz in /home/misiur/.local/lib/python3.10/site-packages (from neo4j) (2022.7.1)\n",
      "Defaulting to user installation because normal site-packages is not writeable\n",
      "Requirement already satisfied: chardet in /home/misiur/.local/lib/python3.10/site-packages (5.1.0)\n"
     ]
    }
   ],
   "source": [
    "!pip install py2neo\n",
    "!pip install neo4j\n",
    "!pip install chardet"
   ]
  },
  {
   "cell_type": "code",
   "execution_count": 115,
   "id": "addbd6be",
   "metadata": {},
   "outputs": [],
   "source": [
    "from py2neo import Graph\n",
    "\n",
    "NEO4J_URL = \"bolt://localhost:7687\"\n",
    "NEO4J_USERNAME = \"neo4j\"\n",
    "NEO4J_PASSWORD = \"neo4jop3\"\n",
    "\n",
    "graph = Graph(NEO4J_URL, auth=(NEO4J_USERNAME, NEO4J_PASSWORD))"
   ]
  },
  {
   "cell_type": "code",
   "execution_count": 180,
   "id": "18a04877",
   "metadata": {
    "scrolled": true
   },
   "outputs": [
    {
     "name": "stdout",
     "output_type": "stream",
     "text": [
      "++++++++++++++++++++++++++++++++++++++\n",
      "Executing query: MERGE (n:Node {id: $id}) SET n += $props with parameters: {id: 'https://schema.org/legislation/2023/2470', props: {'name': 'Ustawa z dnia 9 kwietnia 2010 r. o Służbie Więziennej'}}\n",
      "++++++++++++++++++++++++++++++++++++++\n",
      "Executing query: MERGE (n:Node {id: $id}) SET n += $props with parameters: {id: 'https://schema.org/legislation/2023/418/1/2/1', props: {'@type': 'LegislationObject', 'name': '1)', 'description': 'Jednostka to jednostka organizacyjna Służby Więziennej.'}}\n",
      "++++++++++++++++++++++++++++++++++++++\n",
      "Executing query: MERGE (n:Node {id: $id}) SET n += $props with parameters: {id: 'https://schema.org/legislation/2023/418/1/2/2', props: {'@type': 'LegislationObject', 'name': '2)', 'description': 'Stawka budżetowa to dzienna pieniężna wartość normy wyżywienia, stanowiąca ceny zakupu produktów spożywczych zużytych na jej przygotowanie.'}}\n",
      "++++++++++++++++++++++++++++++++++++++\n",
      "Executing query: MERGE (n:Node {id: $id}) SET n += $props with parameters: {id: 'https://schema.org/legislation/2023/418/1/2/3', props: {'@type': 'LegislationObject', 'name': '3)', 'description': 'Zakład żywienia zbiorowego to zakład wykonujący działalność w zakresie zorganizowanego żywienia konsumentów.'}}\n",
      "++++++++++++++++++++++++++++++++++++++\n",
      "Executing query: MERGE (n:Node {id: $id}) SET n += $props with parameters: {id: 'https://schema.org/legislation/2023/418/1/2', props: {'@type': 'LegislationObject', 'name': '§ 2', 'description': 'Definicje jednostki, stawki budżetowej i zakładu żywienia zbiorowego.', 'keywords': 'jednostka, stawka budżetowa, zakład żywienia zbiorowego'}}\n",
      "++++++++++++++++++++++++++++++++++++++\n",
      "Executing query: MERGE (n:Node {id: $id}) SET n += $props with parameters: {id: 'https://schema.org/legislation/2023/418/1/3/1', props: {'@type': 'LegislationObject', 'name': '1)', 'description': 'Podstawowa norma wyżywienia, zwana dalej „normą „F” ”.'}}\n",
      "++++++++++++++++++++++++++++++++++++++\n",
      "Executing query: MERGE (n:Node {id: $id}) SET n += $props with parameters: {id: 'https://schema.org/legislation/2023/418/1/3/2', props: {'@type': 'LegislationObject', 'name': '2)', 'description': 'Profilaktyczna norma wyżywienia, zwana dalej „normą „Pf” ”.'}}\n",
      "++++++++++++++++++++++++++++++++++++++\n",
      "Executing query: MERGE (n:Node {id: $id}) SET n += $props with parameters: {id: 'https://schema.org/legislation/2023/418/1/3', props: {'@type': 'LegislationObject', 'name': '§ 3', 'description': 'Ustalenie norm wyżywienia przysługujących funkcjonariuszom: norma „F” i norma „Pf”.', 'keywords': 'norma wyżywienia, funkcjonariusze, norma F, norma Pf'}}\n",
      "++++++++++++++++++++++++++++++++++++++\n",
      "Executing query: MERGE (n:Node {id: $id}) SET n += $props with parameters: {id: 'https://schema.org/legislation/2023/418/1/4/1', props: {'@type': 'LegislationObject', 'name': '1', 'description': 'Funkcjonariuszom wykonującym czynności służbowe w warunkach, o których mowa w art. 119 ust. 1 ustawy, przysługuje wyżywienie według normy „F”.'}}\n",
      "++++++++++++++++++++++++++++++++++++++\n",
      "Executing query: MERGE (n:Node {id: $id}) SET n += $props with parameters: {id: 'https://schema.org/legislation/2023/418/1/4/2/1', props: {'@type': 'LegislationObject', 'name': '1)', 'description': 'Śniadanie – ok. 25% stawki.'}}\n",
      "++++++++++++++++++++++++++++++++++++++\n",
      "Executing query: MERGE (n:Node {id: $id}) SET n += $props with parameters: {id: 'https://schema.org/legislation/2023/418/1/4/2/2', props: {'@type': 'LegislationObject', 'name': '2)', 'description': 'Obiad – ok. 50% stawki.'}}\n",
      "++++++++++++++++++++++++++++++++++++++\n",
      "Executing query: MERGE (n:Node {id: $id}) SET n += $props with parameters: {id: 'https://schema.org/legislation/2023/418/1/4/2/3', props: {'@type': 'LegislationObject', 'name': '3)', 'description': 'Kolacja – ok. 25% stawki.'}}\n",
      "++++++++++++++++++++++++++++++++++++++\n",
      "Executing query: MERGE (n:Node {id: $id}) SET n += $props with parameters: {id: 'https://schema.org/legislation/2023/418/1/4/2', props: {'@type': 'LegislationObject', 'name': '2', 'description': 'Norma „F” składa się z trzech posiłków i napojów, odpowiadających procentowej wartości stawki budżetowej normy „F” w następujących proporcjach.'}}\n",
      "++++++++++++++++++++++++++++++++++++++\n",
      "Executing query: MERGE (n:Node {id: $id}) SET n += $props with parameters: {id: 'https://schema.org/legislation/2023/418/1/4', props: {'type': 'LegislationObject', 'name': '§ 4', 'description': 'Przysługujące wyżywienie według normy „F” dla funkcjonariuszy wykonujących czynności służbowe.', 'keywords': 'wyżywienie, norma F, funkcjonariusze, czynności służbowe'}}\n",
      "++++++++++++++++++++++++++++++++++++++\n",
      "Executing query: MERGE (n:Node {id: $id}) SET n += $props with parameters: {id: 'https://schema.org/legislation/2023/418/1', props: {'@context': 'https://schema.org', '@type': 'Legislation', 'description': 'Rozporządzenie Ministra Sprawiedliwości w sprawie uprawnień funkcjonariuszy Służby Więziennej do wyżywienia podczas pełnienia służby.', 'detailedDescription': 'Rozporządzenie określa normy wyżywienia dla funkcjonariuszy Służby Więziennej podczas pełnienia służby, formy ich realizacji, wysokość dziennej wartości normy wyżywienia, jej waloryzację oraz dopuszczalne przekroczenia, a także inne przypadki, w których wyżywienie przysługuje.', 'keywords': 'Służba Więzienna, wyżywienie, rozporządzenie, funkcjonariusze', 'legislationDate': '2023-02-20', 'legislationPassedBy': 'Minister Sprawiedliwości', 'legislationJurisdiction': 'Polska'}}\n"
     ]
    }
   ],
   "source": [
    "import json\n",
    "from py2neo import Graph\n",
    "from pyld import jsonld\n",
    "import string\n",
    "import chardet\n",
    "\n",
    "def load_jsonld_file(file_path):\n",
    "    with open(file_path, 'rb') as file:\n",
    "        content = file.read()\n",
    "        encoding = chardet.detect(content)['encoding']\n",
    "        content = content.decode(encoding).encode('utf-8', 'ignore').decode('utf-8')\n",
    "        data = json.loads(content)\n",
    "    return data\n",
    "\n",
    "\n",
    "\n",
    "def flatten_dict(dictionary, prefix=''):\n",
    "    flattened = {}\n",
    "    for key, value in dictionary.items():\n",
    "        if isinstance(value, dict):\n",
    "            flattened.update(flatten_dict(value, f\"{prefix}{key}_\"))\n",
    "        else:\n",
    "            flattened[f\"{prefix}{key}\"] = str(value) # Convert non-primitive values to string\n",
    "    return flattened\n",
    "\n",
    "\n",
    "def create_nodes_and_edges(graph, nodes, edges):\n",
    "    for node in nodes:\n",
    "        label = node.get(\"name\", \"Node\")\n",
    "        properties = {k: v for k, v in flatten_dict(node).items() if k != \"id\" and k != \"name\"}\n",
    "        graph.run(\"CREATE (n:$label {id: $id}) SET n += $props\", label=label, id=node[\"id\"], props=properties)\n",
    "\n",
    "    for edge in edges:\n",
    "        properties = {k: str(v) if not isinstance(v, (str, int, float, bool)) else v for k, v in flatten_dict(edge[\"properties\"]).items() if k != \"@id\"} # Convert non-primitive values to string\n",
    "        graph.run(\"\"\"\n",
    "        MATCH (a), (b)\n",
    "        WHERE a.id = $source AND b.id = $target\n",
    "        CREATE (a)-[r:RELATED {type: $type}]->(b)\n",
    "        SET r += $props\n",
    "        \"\"\", source=edge['source'], target=edge['target'], type=edge['type'], props=properties)\n",
    "\n",
    "def process_item(item, nodes, edges):\n",
    "    if isinstance(item, dict) and '@id' in item:\n",
    "        node = {'id': item['@id']}\n",
    "        for key, value in item.items():\n",
    "            if key != '@id':\n",
    "                if isinstance(value, list):\n",
    "                    for related in value:\n",
    "                        if isinstance(related, dict) and '@id' in related:\n",
    "                            edges.append({\n",
    "                                'source': item['@id'],\n",
    "                                'target': related['@id'],\n",
    "                                'type': key,\n",
    "                                'properties': related\n",
    "                            })\n",
    "                            process_item(related, nodes, edges)\n",
    "                elif isinstance(value, dict):\n",
    "                    node.update(flatten_dict(value, f\"{key}_\"))\n",
    "                else:\n",
    "                    node[key] = str(value) # Convert non-primitive values to string\n",
    "        nodes.append(node)\n",
    "    elif isinstance(item, list):\n",
    "        for subitem in item:\n",
    "            process_item(subitem, nodes, edges)\n",
    "\n",
    "def generate_cypher_queries(data):\n",
    "    nodes = []\n",
    "    edges = []\n",
    "\n",
    "    process_item(data, nodes, edges)\n",
    "\n",
    "    return nodes, edges\n",
    "\n",
    "def create_nodes_and_edges(graph, nodes, edges):\n",
    "    for node in nodes:\n",
    "        label = node.get(\"name\", \"Node\")\n",
    "        properties = {k: v for k, v in flatten_dict(node).items() if k != \"id\" and k != \"name\"}\n",
    "        query = f\"CREATE (n:`{label}` {{id: $id}}) SET n += $props\"\n",
    "        graph.run(query, id=node[\"id\"], props=properties)\n",
    "\n",
    "    for edge in edges:\n",
    "        properties = {k: str(v) if not isinstance(v, (str, int, float, bool)) else v for k, v in flatten_dict(edge[\"properties\"]).items() if k != \"@id\"} # Convert non-primitive values to string\n",
    "        graph.run(\"\"\"\n",
    "        MATCH (a), (b)\n",
    "        WHERE a.id = $source AND b.id = $target\n",
    "        CREATE (a)-[r:RELATED {type: $type}]->(b)\n",
    "        SET r += $props\n",
    "        \"\"\", source=edge['source'], target=edge['target'], type=edge['type'], props=properties)\n",
    "\n",
    "data = load_jsonld_file(\"/home/misiur/Projects/json-cp/data3.json-ld\")\n",
    "nodes, edges = generate_cypher_queries(data)\n",
    "execute_cypher_queries(graph, (nodes, edges))\n"
   ]
  },
  {
   "cell_type": "code",
   "execution_count": 174,
   "id": "be5b5e0a",
   "metadata": {},
   "outputs": [
    {
     "name": "stdout",
     "output_type": "stream",
     "text": [
      "++++++++++++++++++++++++++++++++++++++\n",
      "Executing query: MERGE (n:Node {id: $id}) SET n += $props with parameters: {id: 'http://example.org/legislation/poland/2022/2470', props: {'@type': 'Legislation', 'name': 'ustawa z dnia 9 kwietnia 2010 r. o Służbie Więziennej', 'identifier': 'Dz. U. z 2022 r. poz. 2470 oraz z 2023 r. poz. 240 i 347'}}\n",
      "++++++++++++++++++++++++++++++++++++++\n",
      "Executing query: MERGE (n:Node {id: $id}) SET n += $props with parameters: {id: 'http://example.org/legislation/poland/2023/418/1', props: {'@type': 'LegislationObject', 'name': '§ 1', 'description': 'Rozporządzenie określa normy wyżywienia przysługujące funkcjonariuszom Służby Więziennej, formy ich realizacji i inne przypadki, w których wyżywienie przysługuje.', 'keywords': 'normy wyżywienia, funkcjonariusze, Służba Więzienna'}}\n",
      "++++++++++++++++++++++++++++++++++++++\n",
      "Executing query: MERGE (n:Node {id: $id}) SET n += $props with parameters: {id: 'http://example.org/legislation/poland/2023/418/2', props: {'@type': 'LegislationObject', 'name': '§ 2', 'description': 'Definicje pojęć: jednostka, stawka budżetowa, zakład żywienia zbiorowego.', 'keywords': 'definicje, jednostka, stawka budżetowa, zakład żywienia zbiorowego'}}\n",
      "++++++++++++++++++++++++++++++++++++++\n",
      "Executing query: MERGE (n:Node {id: $id}) SET n += $props with parameters: {id: 'http://example.org/legislation/poland/2023/418', props: {'@context': 'https://schema.org/', '@type': 'Legislation', 'name': 'Rozporządzenie Ministra Sprawiedliwości z dnia 20 lutego 2023 r. w sprawie uprawnień funkcjonariuszy Służby Więziennej do wyżywienia podczas pełnienia służby', 'identifier': 'Dz.U. 2023 poz. 418', 'description': 'Rozporządzenie dotyczące uprawnień funkcjonariuszy Służby Więziennej do wyżywienia podczas pełnienia służby.', 'detailedDescription': 'Rozporządzenie określa normy wyżywienia przysługujące funkcjonariuszom Służby Więziennej podczas pełnienia służby, formy ich realizacji, wysokość dziennej pieniężnej wartości normy wyżywienia, jej waloryzację oraz dopuszczalne przekroczenia.', 'keywords': 'Służba Więzienna, funkcjonariusze, wyżywienie, normy wyżywienia, uprawnienia', 'legislationDate': '2023-02-20', 'legislationPassedBy': 'Minister Sprawiedliwości', 'legislationJurisdiction': 'Rzeczpospolita Polska'}}\n"
     ]
    }
   ],
   "source": [
    "data = load_jsonld_file(\"/home/misiur/Projects/json-cp/20luty2.json-ld\")\n",
    "nodes, edges = generate_cypher_queries(data)\n",
    "execute_cypher_queries(graph, (nodes, edges))\n"
   ]
  },
  {
   "cell_type": "code",
   "execution_count": 161,
   "id": "65bb48db",
   "metadata": {},
   "outputs": [],
   "source": [
    "# MATCH (n)\n",
    "#OPTIONAL MATCH (n)-[r]-()\n",
    "#DELETE n, r\n"
   ]
  },
  {
   "cell_type": "code",
   "execution_count": 162,
   "id": "76c06295",
   "metadata": {
    "scrolled": true
   },
   "outputs": [
    {
     "name": "stdout",
     "output_type": "stream",
     "text": [
      "{'@context': 'https://schema.org/', '@type': 'Legislation', '@id': 'http://example.org/legislation/poland/2023/418', 'name': 'Rozporządzenie Ministra Sprawiedliwości z dnia 20 lutego 2023 r. w sprawie uprawnień funkcjonariuszy Służby Więziennej do wyżywienia podczas pełnienia służby', 'identifier': 'Dz.U. 2023 poz. 418', 'description': 'Rozporządzenie dotyczące uprawnień funkcjonariuszy Służby Więziennej do wyżywienia podczas pełnienia służby.', 'detailedDescription': 'Rozporządzenie określa normy wyżywienia przysługujące funkcjonariuszom Służby Więziennej podczas pełnienia służby, formy ich realizacji, wysokość dziennej pieniężnej wartości normy wyżywienia, jej waloryzację oraz dopuszczalne przekroczenia.', 'keywords': 'Służba Więzienna, funkcjonariusze, wyżywienie, normy wyżywienia, uprawnienia', 'legislationDate': '2023-02-20', 'legislationPassedBy': 'Minister Sprawiedliwości', 'legislationJurisdiction': 'Rzeczpospolita Polska', 'legislationReference': [{'@type': 'Legislation', '@id': 'http://example.org/legislation/poland/2022/2470', 'name': 'ustawa z dnia 9 kwietnia 2010 r. o Służbie Więziennej', 'identifier': 'Dz. U. z 2022 r. poz. 2470 oraz z 2023 r. poz. 240 i 347'}], 'hasPart': [{'@type': 'LegislationObject', '@id': 'http://example.org/legislation/poland/2023/418/1', 'name': '§ 1', 'description': 'Rozporządzenie określa normy wyżywienia przysługujące funkcjonariuszom Służby Więziennej, formy ich realizacji i inne przypadki, w których wyżywienie przysługuje.', 'keywords': 'normy wyżywienia, funkcjonariusze, Służba Więzienna'}, {'@type': 'LegislationObject', '@id': 'http://example.org/legislation/poland/2023/418/2', 'name': '§ 2', 'description': 'Definicje pojęć: jednostka, stawka budżetowa, zakład żywienia zbiorowego.', 'keywords': 'definicje, jednostka, stawka budżetowa, zakład żywienia zbiorowego'}]}\n"
     ]
    }
   ],
   "source": [
    "print(data)"
   ]
  },
  {
   "cell_type": "code",
   "execution_count": null,
   "id": "fd5cdd16",
   "metadata": {},
   "outputs": [],
   "source": []
  }
 ],
 "metadata": {
  "kernelspec": {
   "display_name": "Python 3 (ipykernel)",
   "language": "python",
   "name": "python3"
  },
  "language_info": {
   "codemirror_mode": {
    "name": "ipython",
    "version": 3
   },
   "file_extension": ".py",
   "mimetype": "text/x-python",
   "name": "python",
   "nbconvert_exporter": "python",
   "pygments_lexer": "ipython3",
   "version": "3.10.6"
  }
 },
 "nbformat": 4,
 "nbformat_minor": 5
}
