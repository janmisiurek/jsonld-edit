{
 "cells": [
  {
   "cell_type": "code",
   "execution_count": 1,
   "id": "57ef3547",
   "metadata": {},
   "outputs": [
    {
     "name": "stdout",
     "output_type": "stream",
     "text": [
      "Defaulting to user installation because normal site-packages is not writeable\n",
      "Requirement already satisfied: py2neo in /home/misiur/.local/lib/python3.10/site-packages (2021.2.3)\n",
      "Requirement already satisfied: six>=1.15.0 in /usr/lib/python3/dist-packages (from py2neo) (1.16.0)\n",
      "Requirement already satisfied: certifi in /home/misiur/.local/lib/python3.10/site-packages (from py2neo) (2022.12.7)\n",
      "Requirement already satisfied: interchange~=2021.0.4 in /home/misiur/.local/lib/python3.10/site-packages (from py2neo) (2021.0.4)\n",
      "Requirement already satisfied: monotonic in /usr/lib/python3/dist-packages (from py2neo) (1.6)\n",
      "Requirement already satisfied: urllib3 in /home/misiur/.local/lib/python3.10/site-packages (from py2neo) (1.26.14)\n",
      "Requirement already satisfied: pansi>=2020.7.3 in /home/misiur/.local/lib/python3.10/site-packages (from py2neo) (2020.7.3)\n",
      "Requirement already satisfied: packaging in /home/misiur/.local/lib/python3.10/site-packages (from py2neo) (23.0)\n",
      "Requirement already satisfied: pygments>=2.0.0 in /home/misiur/.local/lib/python3.10/site-packages (from py2neo) (2.14.0)\n",
      "Requirement already satisfied: pytz in /home/misiur/.local/lib/python3.10/site-packages (from interchange~=2021.0.4->py2neo) (2022.7.1)\n",
      "Defaulting to user installation because normal site-packages is not writeable\n",
      "Requirement already satisfied: neo4j in /home/misiur/.local/lib/python3.10/site-packages (5.6.0)\n",
      "Requirement already satisfied: pytz in /home/misiur/.local/lib/python3.10/site-packages (from neo4j) (2022.7.1)\n",
      "Defaulting to user installation because normal site-packages is not writeable\n",
      "Requirement already satisfied: chardet in /home/misiur/.local/lib/python3.10/site-packages (5.1.0)\n"
     ]
    }
   ],
   "source": [
    "!pip install py2neo\n",
    "!pip install neo4j\n",
    "!pip install chardet"
   ]
  },
  {
   "cell_type": "code",
   "execution_count": 2,
   "id": "addbd6be",
   "metadata": {},
   "outputs": [],
   "source": [
    "from py2neo import Graph\n",
    "\n",
    "NEO4J_URL = \"bolt://localhost:7687\"\n",
    "NEO4J_USERNAME = \"neo4j\"\n",
    "NEO4J_PASSWORD = \"neo4jop3\"\n",
    "\n",
    "graph = Graph(NEO4J_URL, auth=(NEO4J_USERNAME, NEO4J_PASSWORD))"
   ]
  },
  {
   "cell_type": "code",
   "execution_count": 42,
   "id": "18a04877",
   "metadata": {
    "scrolled": true
   },
   "outputs": [
    {
     "name": "stdout",
     "output_type": "stream",
     "text": [
      "['@type: \"\\\\\"Vehicle\\\\\"\"']\n",
      "['@type: \"\\\\\"Vehicle\\\\\"\"', 'brand: \"\\\\\"Audi\\\\\"\"']\n",
      "['@type: \"\\\\\"Vehicle\\\\\"\"', 'brand: \"\\\\\"Audi\\\\\"\"', 'model: \"\\\\\"A4\\\\\"\"']\n",
      "['@type: \"\\\\\"Vehicle\\\\\"\"', 'brand: \"\\\\\"Audi\\\\\"\"', 'model: \"\\\\\"A4\\\\\"\"', 'manufacturer: \"\\\\\"Audi\\\\\"\"']\n",
      "['@type: \"\\\\\"Vehicle\\\\\"\"', 'brand: \"\\\\\"Audi\\\\\"\"', 'model: \"\\\\\"A4\\\\\"\"', 'manufacturer: \"\\\\\"Audi\\\\\"\"', 'vehicleEngine_@type: \"\\\\\"EngineSpecification\\\\\"\"']\n",
      "['@type: \"\\\\\"Vehicle\\\\\"\"', 'brand: \"\\\\\"Audi\\\\\"\"', 'model: \"\\\\\"A4\\\\\"\"', 'manufacturer: \"\\\\\"Audi\\\\\"\"', 'vehicleEngine_@type: \"\\\\\"EngineSpecification\\\\\"\"', 'vehicleEngine_fuelType: \"\\\\\"Gasoline\\\\\"\"']\n",
      "['@type: \"\\\\\"Vehicle\\\\\"\"', 'brand: \"\\\\\"Audi\\\\\"\"', 'model: \"\\\\\"A4\\\\\"\"', 'manufacturer: \"\\\\\"Audi\\\\\"\"', 'vehicleEngine_@type: \"\\\\\"EngineSpecification\\\\\"\"', 'vehicleEngine_fuelType: \"\\\\\"Gasoline\\\\\"\"', 'vehicleEngine_engineType: \"\\\\\"Inline-four\\\\\"\"']\n",
      "['@type: \"\\\\\"Vehicle\\\\\"\"', 'brand: \"\\\\\"Audi\\\\\"\"', 'model: \"\\\\\"A4\\\\\"\"', 'manufacturer: \"\\\\\"Audi\\\\\"\"', 'vehicleEngine_@type: \"\\\\\"EngineSpecification\\\\\"\"', 'vehicleEngine_fuelType: \"\\\\\"Gasoline\\\\\"\"', 'vehicleEngine_engineType: \"\\\\\"Inline-four\\\\\"\"', 'vehicleEngine_engineDisplacement: \"\\\\\"2.0 L\\\\\"\"']\n",
      "['@type: \"\\\\\"Vehicle\\\\\"\"', 'brand: \"\\\\\"Audi\\\\\"\"', 'model: \"\\\\\"A4\\\\\"\"', 'manufacturer: \"\\\\\"Audi\\\\\"\"', 'vehicleEngine_@type: \"\\\\\"EngineSpecification\\\\\"\"', 'vehicleEngine_fuelType: \"\\\\\"Gasoline\\\\\"\"', 'vehicleEngine_engineType: \"\\\\\"Inline-four\\\\\"\"', 'vehicleEngine_engineDisplacement: \"\\\\\"2.0 L\\\\\"\"', 'driveWheelConfiguration: \"\\\\\"Front-wheel drive\\\\\"\"']\n",
      "['@type: \"\\\\\"Vehicle\\\\\"\"', 'brand: \"\\\\\"Audi\\\\\"\"', 'model: \"\\\\\"A4\\\\\"\"', 'manufacturer: \"\\\\\"Audi\\\\\"\"', 'vehicleEngine_@type: \"\\\\\"EngineSpecification\\\\\"\"', 'vehicleEngine_fuelType: \"\\\\\"Gasoline\\\\\"\"', 'vehicleEngine_engineType: \"\\\\\"Inline-four\\\\\"\"', 'vehicleEngine_engineDisplacement: \"\\\\\"2.0 L\\\\\"\"', 'driveWheelConfiguration: \"\\\\\"Front-wheel drive\\\\\"\"', 'fuelType: \"\\\\\"Gasoline\\\\\"\"']\n",
      "['@type: \"\\\\\"Vehicle\\\\\"\"', 'brand: \"\\\\\"Audi\\\\\"\"', 'model: \"\\\\\"A4\\\\\"\"', 'manufacturer: \"\\\\\"Audi\\\\\"\"', 'vehicleEngine_@type: \"\\\\\"EngineSpecification\\\\\"\"', 'vehicleEngine_fuelType: \"\\\\\"Gasoline\\\\\"\"', 'vehicleEngine_engineType: \"\\\\\"Inline-four\\\\\"\"', 'vehicleEngine_engineDisplacement: \"\\\\\"2.0 L\\\\\"\"', 'driveWheelConfiguration: \"\\\\\"Front-wheel drive\\\\\"\"', 'fuelType: \"\\\\\"Gasoline\\\\\"\"', 'numberOfDoors: \"\\\\\"4\\\\\"\"']\n",
      "['@type: \"\\\\\"Vehicle\\\\\"\"', 'brand: \"\\\\\"Audi\\\\\"\"', 'model: \"\\\\\"A4\\\\\"\"', 'manufacturer: \"\\\\\"Audi\\\\\"\"', 'vehicleEngine_@type: \"\\\\\"EngineSpecification\\\\\"\"', 'vehicleEngine_fuelType: \"\\\\\"Gasoline\\\\\"\"', 'vehicleEngine_engineType: \"\\\\\"Inline-four\\\\\"\"', 'vehicleEngine_engineDisplacement: \"\\\\\"2.0 L\\\\\"\"', 'driveWheelConfiguration: \"\\\\\"Front-wheel drive\\\\\"\"', 'fuelType: \"\\\\\"Gasoline\\\\\"\"', 'numberOfDoors: \"\\\\\"4\\\\\"\"', 'numberOfSeats: \"\\\\\"5\\\\\"\"']\n",
      "['@type: \"\\\\\"Vehicle\\\\\"\"', 'brand: \"\\\\\"Audi\\\\\"\"', 'model: \"\\\\\"A4\\\\\"\"', 'manufacturer: \"\\\\\"Audi\\\\\"\"', 'vehicleEngine_@type: \"\\\\\"EngineSpecification\\\\\"\"', 'vehicleEngine_fuelType: \"\\\\\"Gasoline\\\\\"\"', 'vehicleEngine_engineType: \"\\\\\"Inline-four\\\\\"\"', 'vehicleEngine_engineDisplacement: \"\\\\\"2.0 L\\\\\"\"', 'driveWheelConfiguration: \"\\\\\"Front-wheel drive\\\\\"\"', 'fuelType: \"\\\\\"Gasoline\\\\\"\"', 'numberOfDoors: \"\\\\\"4\\\\\"\"', 'numberOfSeats: \"\\\\\"5\\\\\"\"', 'vehicleTransmission: \"\\\\\"8-speed automatic\\\\\"\"']\n",
      "['@type: \"\\\\\"Vehicle\\\\\"\"']\n",
      "['@type: \"\\\\\"Vehicle\\\\\"\"', 'brand: \"\\\\\"BMW\\\\\"\"']\n",
      "['@type: \"\\\\\"Vehicle\\\\\"\"', 'brand: \"\\\\\"BMW\\\\\"\"', 'model: \"\\\\\"3 Series\\\\\"\"']\n",
      "['@type: \"\\\\\"Vehicle\\\\\"\"', 'brand: \"\\\\\"BMW\\\\\"\"', 'model: \"\\\\\"3 Series\\\\\"\"', 'manufacturer: \"\\\\\"BMW\\\\\"\"']\n",
      "['@type: \"\\\\\"Vehicle\\\\\"\"', 'brand: \"\\\\\"BMW\\\\\"\"', 'model: \"\\\\\"3 Series\\\\\"\"', 'manufacturer: \"\\\\\"BMW\\\\\"\"', 'vehicleEngine_@type: \"\\\\\"EngineSpecification\\\\\"\"']\n",
      "['@type: \"\\\\\"Vehicle\\\\\"\"', 'brand: \"\\\\\"BMW\\\\\"\"', 'model: \"\\\\\"3 Series\\\\\"\"', 'manufacturer: \"\\\\\"BMW\\\\\"\"', 'vehicleEngine_@type: \"\\\\\"EngineSpecification\\\\\"\"', 'vehicleEngine_fuelType: \"\\\\\"Diesel\\\\\"\"']\n",
      "['@type: \"\\\\\"Vehicle\\\\\"\"', 'brand: \"\\\\\"BMW\\\\\"\"', 'model: \"\\\\\"3 Series\\\\\"\"', 'manufacturer: \"\\\\\"BMW\\\\\"\"', 'vehicleEngine_@type: \"\\\\\"EngineSpecification\\\\\"\"', 'vehicleEngine_fuelType: \"\\\\\"Diesel\\\\\"\"', 'vehicleEngine_engineType: \"\\\\\"Inline-six\\\\\"\"']\n",
      "['@type: \"\\\\\"Vehicle\\\\\"\"', 'brand: \"\\\\\"BMW\\\\\"\"', 'model: \"\\\\\"3 Series\\\\\"\"', 'manufacturer: \"\\\\\"BMW\\\\\"\"', 'vehicleEngine_@type: \"\\\\\"EngineSpecification\\\\\"\"', 'vehicleEngine_fuelType: \"\\\\\"Diesel\\\\\"\"', 'vehicleEngine_engineType: \"\\\\\"Inline-six\\\\\"\"', 'vehicleEngine_engineDisplacement: \"\\\\\"3.0 L\\\\\"\"']\n",
      "['@type: \"\\\\\"Vehicle\\\\\"\"', 'brand: \"\\\\\"BMW\\\\\"\"', 'model: \"\\\\\"3 Series\\\\\"\"', 'manufacturer: \"\\\\\"BMW\\\\\"\"', 'vehicleEngine_@type: \"\\\\\"EngineSpecification\\\\\"\"', 'vehicleEngine_fuelType: \"\\\\\"Diesel\\\\\"\"', 'vehicleEngine_engineType: \"\\\\\"Inline-six\\\\\"\"', 'vehicleEngine_engineDisplacement: \"\\\\\"3.0 L\\\\\"\"', 'driveWheelConfiguration: \"\\\\\"Rear-wheel drive\\\\\"\"']\n",
      "['@type: \"\\\\\"Vehicle\\\\\"\"', 'brand: \"\\\\\"BMW\\\\\"\"', 'model: \"\\\\\"3 Series\\\\\"\"', 'manufacturer: \"\\\\\"BMW\\\\\"\"', 'vehicleEngine_@type: \"\\\\\"EngineSpecification\\\\\"\"', 'vehicleEngine_fuelType: \"\\\\\"Diesel\\\\\"\"', 'vehicleEngine_engineType: \"\\\\\"Inline-six\\\\\"\"', 'vehicleEngine_engineDisplacement: \"\\\\\"3.0 L\\\\\"\"', 'driveWheelConfiguration: \"\\\\\"Rear-wheel drive\\\\\"\"', 'fuelType: \"\\\\\"Diesel\\\\\"\"']\n",
      "['@type: \"\\\\\"Vehicle\\\\\"\"', 'brand: \"\\\\\"BMW\\\\\"\"', 'model: \"\\\\\"3 Series\\\\\"\"', 'manufacturer: \"\\\\\"BMW\\\\\"\"', 'vehicleEngine_@type: \"\\\\\"EngineSpecification\\\\\"\"', 'vehicleEngine_fuelType: \"\\\\\"Diesel\\\\\"\"', 'vehicleEngine_engineType: \"\\\\\"Inline-six\\\\\"\"', 'vehicleEngine_engineDisplacement: \"\\\\\"3.0 L\\\\\"\"', 'driveWheelConfiguration: \"\\\\\"Rear-wheel drive\\\\\"\"', 'fuelType: \"\\\\\"Diesel\\\\\"\"', 'numberOfDoors: \"\\\\\"4\\\\\"\"']\n",
      "['@type: \"\\\\\"Vehicle\\\\\"\"', 'brand: \"\\\\\"BMW\\\\\"\"', 'model: \"\\\\\"3 Series\\\\\"\"', 'manufacturer: \"\\\\\"BMW\\\\\"\"', 'vehicleEngine_@type: \"\\\\\"EngineSpecification\\\\\"\"', 'vehicleEngine_fuelType: \"\\\\\"Diesel\\\\\"\"', 'vehicleEngine_engineType: \"\\\\\"Inline-six\\\\\"\"', 'vehicleEngine_engineDisplacement: \"\\\\\"3.0 L\\\\\"\"', 'driveWheelConfiguration: \"\\\\\"Rear-wheel drive\\\\\"\"', 'fuelType: \"\\\\\"Diesel\\\\\"\"', 'numberOfDoors: \"\\\\\"4\\\\\"\"', 'numberOfSeats: \"\\\\\"5\\\\\"\"']\n",
      "['@type: \"\\\\\"Vehicle\\\\\"\"', 'brand: \"\\\\\"BMW\\\\\"\"', 'model: \"\\\\\"3 Series\\\\\"\"', 'manufacturer: \"\\\\\"BMW\\\\\"\"', 'vehicleEngine_@type: \"\\\\\"EngineSpecification\\\\\"\"', 'vehicleEngine_fuelType: \"\\\\\"Diesel\\\\\"\"', 'vehicleEngine_engineType: \"\\\\\"Inline-six\\\\\"\"', 'vehicleEngine_engineDisplacement: \"\\\\\"3.0 L\\\\\"\"', 'driveWheelConfiguration: \"\\\\\"Rear-wheel drive\\\\\"\"', 'fuelType: \"\\\\\"Diesel\\\\\"\"', 'numberOfDoors: \"\\\\\"4\\\\\"\"', 'numberOfSeats: \"\\\\\"5\\\\\"\"', 'vehicleTransmission: \"\\\\\"6-speed manual\\\\\"\"']\n",
      "['@type: \"\\\\\"Vehicle\\\\\"\"']\n",
      "['@type: \"\\\\\"Vehicle\\\\\"\"', 'brand: \"\\\\\"Mercedes-Benz\\\\\"\"']\n",
      "['@type: \"\\\\\"Vehicle\\\\\"\"', 'brand: \"\\\\\"Mercedes-Benz\\\\\"\"', 'model: \"\\\\\"C-Class\\\\\"\"']\n",
      "['@type: \"\\\\\"Vehicle\\\\\"\"', 'brand: \"\\\\\"Mercedes-Benz\\\\\"\"', 'model: \"\\\\\"C-Class\\\\\"\"', 'manufacturer: \"\\\\\"Mercedes-Benz\\\\\"\"']\n",
      "['@type: \"\\\\\"Vehicle\\\\\"\"', 'brand: \"\\\\\"Mercedes-Benz\\\\\"\"', 'model: \"\\\\\"C-Class\\\\\"\"', 'manufacturer: \"\\\\\"Mercedes-Benz\\\\\"\"', 'vehicleEngine_@type: \"\\\\\"EngineSpecification\\\\\"\"']\n",
      "['@type: \"\\\\\"Vehicle\\\\\"\"', 'brand: \"\\\\\"Mercedes-Benz\\\\\"\"', 'model: \"\\\\\"C-Class\\\\\"\"', 'manufacturer: \"\\\\\"Mercedes-Benz\\\\\"\"', 'vehicleEngine_@type: \"\\\\\"EngineSpecification\\\\\"\"', 'vehicleEngine_fuelType: \"\\\\\"Gasoline\\\\\"\"']\n",
      "['@type: \"\\\\\"Vehicle\\\\\"\"', 'brand: \"\\\\\"Mercedes-Benz\\\\\"\"', 'model: \"\\\\\"C-Class\\\\\"\"', 'manufacturer: \"\\\\\"Mercedes-Benz\\\\\"\"', 'vehicleEngine_@type: \"\\\\\"EngineSpecification\\\\\"\"', 'vehicleEngine_fuelType: \"\\\\\"Gasoline\\\\\"\"', 'vehicleEngine_engineType: \"\\\\\"V6\\\\\"\"']\n",
      "['@type: \"\\\\\"Vehicle\\\\\"\"', 'brand: \"\\\\\"Mercedes-Benz\\\\\"\"', 'model: \"\\\\\"C-Class\\\\\"\"', 'manufacturer: \"\\\\\"Mercedes-Benz\\\\\"\"', 'vehicleEngine_@type: \"\\\\\"EngineSpecification\\\\\"\"', 'vehicleEngine_fuelType: \"\\\\\"Gasoline\\\\\"\"', 'vehicleEngine_engineType: \"\\\\\"V6\\\\\"\"', 'vehicleEngine_engineDisplacement: \"\\\\\"3.5 L\\\\\"\"']\n",
      "['@type: \"\\\\\"Vehicle\\\\\"\"', 'brand: \"\\\\\"Mercedes-Benz\\\\\"\"', 'model: \"\\\\\"C-Class\\\\\"\"', 'manufacturer: \"\\\\\"Mercedes-Benz\\\\\"\"', 'vehicleEngine_@type: \"\\\\\"EngineSpecification\\\\\"\"', 'vehicleEngine_fuelType: \"\\\\\"Gasoline\\\\\"\"', 'vehicleEngine_engineType: \"\\\\\"V6\\\\\"\"', 'vehicleEngine_engineDisplacement: \"\\\\\"3.5 L\\\\\"\"', 'driveWheelConfiguration: \"\\\\\"All-wheel drive\\\\\"\"']\n",
      "['@type: \"\\\\\"Vehicle\\\\\"\"', 'brand: \"\\\\\"Mercedes-Benz\\\\\"\"', 'model: \"\\\\\"C-Class\\\\\"\"', 'manufacturer: \"\\\\\"Mercedes-Benz\\\\\"\"', 'vehicleEngine_@type: \"\\\\\"EngineSpecification\\\\\"\"', 'vehicleEngine_fuelType: \"\\\\\"Gasoline\\\\\"\"', 'vehicleEngine_engineType: \"\\\\\"V6\\\\\"\"', 'vehicleEngine_engineDisplacement: \"\\\\\"3.5 L\\\\\"\"', 'driveWheelConfiguration: \"\\\\\"All-wheel drive\\\\\"\"', 'fuelType: \"\\\\\"Gasoline\\\\\"\"']\n",
      "['@type: \"\\\\\"Vehicle\\\\\"\"', 'brand: \"\\\\\"Mercedes-Benz\\\\\"\"', 'model: \"\\\\\"C-Class\\\\\"\"', 'manufacturer: \"\\\\\"Mercedes-Benz\\\\\"\"', 'vehicleEngine_@type: \"\\\\\"EngineSpecification\\\\\"\"', 'vehicleEngine_fuelType: \"\\\\\"Gasoline\\\\\"\"', 'vehicleEngine_engineType: \"\\\\\"V6\\\\\"\"', 'vehicleEngine_engineDisplacement: \"\\\\\"3.5 L\\\\\"\"', 'driveWheelConfiguration: \"\\\\\"All-wheel drive\\\\\"\"', 'fuelType: \"\\\\\"Gasoline\\\\\"\"', 'numberOfDoors: \"\\\\\"4\\\\\"\"']\n",
      "['@type: \"\\\\\"Vehicle\\\\\"\"', 'brand: \"\\\\\"Mercedes-Benz\\\\\"\"', 'model: \"\\\\\"C-Class\\\\\"\"', 'manufacturer: \"\\\\\"Mercedes-Benz\\\\\"\"', 'vehicleEngine_@type: \"\\\\\"EngineSpecification\\\\\"\"', 'vehicleEngine_fuelType: \"\\\\\"Gasoline\\\\\"\"', 'vehicleEngine_engineType: \"\\\\\"V6\\\\\"\"', 'vehicleEngine_engineDisplacement: \"\\\\\"3.5 L\\\\\"\"', 'driveWheelConfiguration: \"\\\\\"All-wheel drive\\\\\"\"', 'fuelType: \"\\\\\"Gasoline\\\\\"\"', 'numberOfDoors: \"\\\\\"4\\\\\"\"', 'numberOfSeats: \"\\\\\"5\\\\\"\"']\n",
      "['@type: \"\\\\\"Vehicle\\\\\"\"', 'brand: \"\\\\\"Mercedes-Benz\\\\\"\"', 'model: \"\\\\\"C-Class\\\\\"\"', 'manufacturer: \"\\\\\"Mercedes-Benz\\\\\"\"', 'vehicleEngine_@type: \"\\\\\"EngineSpecification\\\\\"\"', 'vehicleEngine_fuelType: \"\\\\\"Gasoline\\\\\"\"', 'vehicleEngine_engineType: \"\\\\\"V6\\\\\"\"', 'vehicleEngine_engineDisplacement: \"\\\\\"3.5 L\\\\\"\"', 'driveWheelConfiguration: \"\\\\\"All-wheel drive\\\\\"\"', 'fuelType: \"\\\\\"Gasoline\\\\\"\"', 'numberOfDoors: \"\\\\\"4\\\\\"\"', 'numberOfSeats: \"\\\\\"5\\\\\"\"', 'vehicleTransmission: \"\\\\\"7-speed automatic\\\\\"\"']\n",
      "CREATE\n",
      "  (`https://example.com/cars/audi/a4`:`Vehicle` (@type: \"\\\"Vehicle\\\"\", brand: \"\\\"Audi\\\"\", model: \"\\\"A4\\\"\", manufacturer: \"\\\"Audi\\\"\", vehicleEngine_@type: \"\\\"EngineSpecification\\\"\", vehicleEngine_fuelType: \"\\\"Gasoline\\\"\", vehicleEngine_engineType: \"\\\"Inline-four\\\"\", vehicleEngine_engineDisplacement: \"\\\"2.0 L\\\"\", driveWheelConfiguration: \"\\\"Front-wheel drive\\\"\", fuelType: \"\\\"Gasoline\\\"\", numberOfDoors: \"\\\"4\\\"\", numberOfSeats: \"\\\"5\\\"\", vehicleTransmission: \"\\\"8-speed automatic\\\"\")),\n",
      "  (`https://example.com/cars/bmw/3-series`:`Vehicle` (@type: \"\\\"Vehicle\\\"\", brand: \"\\\"BMW\\\"\", model: \"\\\"3 Series\\\"\", manufacturer: \"\\\"BMW\\\"\", vehicleEngine_@type: \"\\\"EngineSpecification\\\"\", vehicleEngine_fuelType: \"\\\"Diesel\\\"\", vehicleEngine_engineType: \"\\\"Inline-six\\\"\", vehicleEngine_engineDisplacement: \"\\\"3.0 L\\\"\", driveWheelConfiguration: \"\\\"Rear-wheel drive\\\"\", fuelType: \"\\\"Diesel\\\"\", numberOfDoors: \"\\\"4\\\"\", numberOfSeats: \"\\\"5\\\"\", vehicleTransmission: \"\\\"6-speed manual\\\"\")),\n",
      "  (`https://example.com/cars/mercedes-benz/c-class`:`Vehicle` (@type: \"\\\"Vehicle\\\"\", brand: \"\\\"Mercedes-Benz\\\"\", model: \"\\\"C-Class\\\"\", manufacturer: \"\\\"Mercedes-Benz\\\"\", vehicleEngine_@type: \"\\\"EngineSpecification\\\"\", vehicleEngine_fuelType: \"\\\"Gasoline\\\"\", vehicleEngine_engineType: \"\\\"V6\\\"\", vehicleEngine_engineDisplacement: \"\\\"3.5 L\\\"\", driveWheelConfiguration: \"\\\"All-wheel drive\\\"\", fuelType: \"\\\"Gasoline\\\"\", numberOfDoors: \"\\\"4\\\"\", numberOfSeats: \"\\\"5\\\"\", vehicleTransmission: \"\\\"7-speed automatic\\\"\"))\n"
     ]
    },
    {
     "ename": "ClientError",
     "evalue": "[Statement.SyntaxError] Invalid input '(': expected \")\", \"WHERE\", \"{\" or a parameter (line 2, column 49 (offset: 55))\n\"  (`https://example.com/cars/audi/a4`:`Vehicle` (@type: \"\\\"Vehicle\\\"\", brand: \"\\\"Audi\\\"\", model: \"\\\"A4\\\"\", manufacturer: \"\\\"Audi\\\"\", vehicleEngine_@type: \"\\\"EngineSpecification\\\"\", vehicleEngine_fuelType: \"\\\"Gasoline\\\"\", vehicleEngine_engineType: \"\\\"Inline-four\\\"\", vehicleEngine_engineDisplacement: \"\\\"2.0 L\\\"\", driveWheelConfiguration: \"\\\"Front-wheel drive\\\"\", fuelType: \"\\\"Gasoline\\\"\", numberOfDoors: \"\\\"4\\\"\", numberOfSeats: \"\\\"5\\\"\", vehicleTransmission: \"\\\"8-speed automatic\\\"\")),\"\n                                                 ^",
     "output_type": "error",
     "traceback": [
      "\u001b[0;31m---------------------------------------------------------------------------\u001b[0m",
      "\u001b[0;31mClientError\u001b[0m                               Traceback (most recent call last)",
      "Cell \u001b[0;32mIn[42], line 109\u001b[0m\n\u001b[1;32m    106\u001b[0m nodes, edges \u001b[38;5;241m=\u001b[39m generate_cypher_queries(data)\n\u001b[1;32m    107\u001b[0m \u001b[38;5;66;03m#print(\"Nodes:\", nodes)  # Add this line to print nodes\u001b[39;00m\n\u001b[1;32m    108\u001b[0m \u001b[38;5;66;03m#print(\"Edges:\", edges)  # Add this line to print edges\u001b[39;00m\n\u001b[0;32m--> 109\u001b[0m \u001b[43mcreate_nodes_and_edges\u001b[49m\u001b[43m(\u001b[49m\u001b[43mgraph\u001b[49m\u001b[43m,\u001b[49m\u001b[43m \u001b[49m\u001b[43mnodes\u001b[49m\u001b[43m,\u001b[49m\u001b[43m \u001b[49m\u001b[43medges\u001b[49m\u001b[43m)\u001b[49m\n",
      "Cell \u001b[0;32mIn[42], line 101\u001b[0m, in \u001b[0;36mcreate_nodes_and_edges\u001b[0;34m(graph, nodes, edges)\u001b[0m\n\u001b[1;32m     99\u001b[0m query \u001b[38;5;241m=\u001b[39m \u001b[38;5;124m\"\u001b[39m\u001b[38;5;124mCREATE\u001b[39m\u001b[38;5;130;01m\\n\u001b[39;00m\u001b[38;5;124m  \u001b[39m\u001b[38;5;132;01m{}\u001b[39;00m\u001b[38;5;124m\"\u001b[39m\u001b[38;5;241m.\u001b[39mformat(\u001b[38;5;124m'\u001b[39m\u001b[38;5;124m,\u001b[39m\u001b[38;5;130;01m\\n\u001b[39;00m\u001b[38;5;124m  \u001b[39m\u001b[38;5;124m'\u001b[39m\u001b[38;5;241m.\u001b[39mjoin(create_nodes \u001b[38;5;241m+\u001b[39m create_edges))\n\u001b[1;32m    100\u001b[0m \u001b[38;5;28mprint\u001b[39m(query)  \u001b[38;5;66;03m# Add this line to print the generated query\u001b[39;00m\n\u001b[0;32m--> 101\u001b[0m \u001b[43mgraph\u001b[49m\u001b[38;5;241;43m.\u001b[39;49m\u001b[43mrun\u001b[49m\u001b[43m(\u001b[49m\u001b[43mquery\u001b[49m\u001b[43m)\u001b[49m\n",
      "File \u001b[0;32m~/.local/lib/python3.10/site-packages/py2neo/database.py:405\u001b[0m, in \u001b[0;36mGraph.run\u001b[0;34m(self, cypher, parameters, **kwparameters)\u001b[0m\n\u001b[1;32m    395\u001b[0m \u001b[38;5;28;01mdef\u001b[39;00m \u001b[38;5;21mrun\u001b[39m(\u001b[38;5;28mself\u001b[39m, cypher, parameters\u001b[38;5;241m=\u001b[39m\u001b[38;5;28;01mNone\u001b[39;00m, \u001b[38;5;241m*\u001b[39m\u001b[38;5;241m*\u001b[39mkwparameters):\n\u001b[1;32m    396\u001b[0m \u001b[38;5;250m    \u001b[39m\u001b[38;5;124;03m\"\"\" Run a single read/write query within an auto-commit\u001b[39;00m\n\u001b[1;32m    397\u001b[0m \u001b[38;5;124;03m    :class:`~py2neo.Transaction`.\u001b[39;00m\n\u001b[1;32m    398\u001b[0m \n\u001b[0;32m   (...)\u001b[0m\n\u001b[1;32m    403\u001b[0m \u001b[38;5;124;03m    :return:\u001b[39;00m\n\u001b[1;32m    404\u001b[0m \u001b[38;5;124;03m    \"\"\"\u001b[39;00m\n\u001b[0;32m--> 405\u001b[0m     \u001b[38;5;28;01mreturn\u001b[39;00m \u001b[38;5;28;43mself\u001b[39;49m\u001b[38;5;241;43m.\u001b[39;49m\u001b[43mauto\u001b[49m\u001b[43m(\u001b[49m\u001b[43m)\u001b[49m\u001b[38;5;241;43m.\u001b[39;49m\u001b[43mrun\u001b[49m\u001b[43m(\u001b[49m\u001b[43mcypher\u001b[49m\u001b[43m,\u001b[49m\u001b[43m \u001b[49m\u001b[43mparameters\u001b[49m\u001b[43m,\u001b[49m\u001b[43m \u001b[49m\u001b[38;5;241;43m*\u001b[39;49m\u001b[38;5;241;43m*\u001b[39;49m\u001b[43mkwparameters\u001b[49m\u001b[43m)\u001b[49m\n",
      "File \u001b[0;32m~/.local/lib/python3.10/site-packages/py2neo/database.py:992\u001b[0m, in \u001b[0;36mTransaction.run\u001b[0;34m(self, cypher, parameters, **kwparameters)\u001b[0m\n\u001b[1;32m    988\u001b[0m     \u001b[38;5;28;01melse\u001b[39;00m:\n\u001b[1;32m    989\u001b[0m         result \u001b[38;5;241m=\u001b[39m \u001b[38;5;28mself\u001b[39m\u001b[38;5;241m.\u001b[39m_connector\u001b[38;5;241m.\u001b[39mauto_run(cypher, parameters,\n\u001b[1;32m    990\u001b[0m                                           graph_name\u001b[38;5;241m=\u001b[39m\u001b[38;5;28mself\u001b[39m\u001b[38;5;241m.\u001b[39mgraph\u001b[38;5;241m.\u001b[39mname,\n\u001b[1;32m    991\u001b[0m                                           readonly\u001b[38;5;241m=\u001b[39m\u001b[38;5;28mself\u001b[39m\u001b[38;5;241m.\u001b[39mreadonly)\n\u001b[0;32m--> 992\u001b[0m     \u001b[38;5;28;43mself\u001b[39;49m\u001b[38;5;241;43m.\u001b[39;49m\u001b[43m_connector\u001b[49m\u001b[38;5;241;43m.\u001b[39;49m\u001b[43mpull\u001b[49m\u001b[43m(\u001b[49m\u001b[43mresult\u001b[49m\u001b[43m,\u001b[49m\u001b[43m \u001b[49m\u001b[38;5;241;43m-\u001b[39;49m\u001b[38;5;241;43m1\u001b[39;49m\u001b[43m)\u001b[49m\n\u001b[1;32m    993\u001b[0m     \u001b[38;5;28;01mreturn\u001b[39;00m Cursor(result, hydrant)\n\u001b[1;32m    994\u001b[0m \u001b[38;5;28;01mfinally\u001b[39;00m:\n",
      "File \u001b[0;32m~/.local/lib/python3.10/site-packages/py2neo/client/__init__.py:1434\u001b[0m, in \u001b[0;36mConnector.pull\u001b[0;34m(self, result, n)\u001b[0m\n\u001b[1;32m   1432\u001b[0m cx \u001b[38;5;241m=\u001b[39m \u001b[38;5;28mself\u001b[39m\u001b[38;5;241m.\u001b[39m_reacquire(result\u001b[38;5;241m.\u001b[39mtransaction)\n\u001b[1;32m   1433\u001b[0m \u001b[38;5;28;01mtry\u001b[39;00m:\n\u001b[0;32m-> 1434\u001b[0m     \u001b[43mcx\u001b[49m\u001b[38;5;241;43m.\u001b[39;49m\u001b[43mpull\u001b[49m\u001b[43m(\u001b[49m\u001b[43mresult\u001b[49m\u001b[43m,\u001b[49m\u001b[43m \u001b[49m\u001b[43mn\u001b[49m\u001b[38;5;241;43m=\u001b[39;49m\u001b[43mn\u001b[49m\u001b[43m)\u001b[49m\n\u001b[1;32m   1435\u001b[0m \u001b[38;5;28;01mexcept\u001b[39;00m (ConnectionUnavailable, ConnectionBroken):\n\u001b[1;32m   1436\u001b[0m     \u001b[38;5;28mself\u001b[39m\u001b[38;5;241m.\u001b[39mprune(cx\u001b[38;5;241m.\u001b[39mprofile)\n",
      "File \u001b[0;32m~/.local/lib/python3.10/site-packages/py2neo/client/bolt.py:1001\u001b[0m, in \u001b[0;36mBolt4x0.pull\u001b[0;34m(self, result, n, capacity)\u001b[0m\n\u001b[1;32m    998\u001b[0m     raise_from(ConnectionBroken(\u001b[38;5;124m\"\u001b[39m\u001b[38;5;124mTransaction broken by disconnection \u001b[39m\u001b[38;5;124m\"\u001b[39m\n\u001b[1;32m    999\u001b[0m                                 \u001b[38;5;124m\"\u001b[39m\u001b[38;5;124mduring pull\u001b[39m\u001b[38;5;124m\"\u001b[39m), error)\n\u001b[1;32m   1000\u001b[0m \u001b[38;5;28;01melse\u001b[39;00m:\n\u001b[0;32m-> 1001\u001b[0m     \u001b[38;5;28;43mself\u001b[39;49m\u001b[38;5;241;43m.\u001b[39;49m\u001b[43m_audit\u001b[49m\u001b[43m(\u001b[49m\u001b[38;5;28;43mself\u001b[39;49m\u001b[38;5;241;43m.\u001b[39;49m\u001b[43m_transaction\u001b[49m\u001b[43m)\u001b[49m\n\u001b[1;32m   1002\u001b[0m     \u001b[38;5;28;01mreturn\u001b[39;00m response\n",
      "File \u001b[0;32m~/.local/lib/python3.10/site-packages/py2neo/client/bolt.py:810\u001b[0m, in \u001b[0;36mBolt1._audit\u001b[0;34m(self, task)\u001b[0m\n\u001b[1;32m    808\u001b[0m     \u001b[38;5;28;01mreturn\u001b[39;00m\n\u001b[1;32m    809\u001b[0m \u001b[38;5;28;01mtry\u001b[39;00m:\n\u001b[0;32m--> 810\u001b[0m     \u001b[43mtask\u001b[49m\u001b[38;5;241;43m.\u001b[39;49m\u001b[43maudit\u001b[49m\u001b[43m(\u001b[49m\u001b[43m)\u001b[49m\n\u001b[1;32m    811\u001b[0m \u001b[38;5;28;01mexcept\u001b[39;00m Neo4jError:\n\u001b[1;32m    812\u001b[0m     \u001b[38;5;28mself\u001b[39m\u001b[38;5;241m.\u001b[39mreset(force\u001b[38;5;241m=\u001b[39m\u001b[38;5;28;01mTrue\u001b[39;00m)\n",
      "File \u001b[0;32m~/.local/lib/python3.10/site-packages/py2neo/client/bolt.py:1140\u001b[0m, in \u001b[0;36mItemizedTask.audit\u001b[0;34m(self)\u001b[0m\n\u001b[1;32m   1138\u001b[0m \u001b[38;5;28;01mdef\u001b[39;00m \u001b[38;5;21maudit\u001b[39m(\u001b[38;5;28mself\u001b[39m):\n\u001b[1;32m   1139\u001b[0m     \u001b[38;5;28;01mfor\u001b[39;00m item \u001b[38;5;129;01min\u001b[39;00m \u001b[38;5;28mself\u001b[39m\u001b[38;5;241m.\u001b[39m_items:\n\u001b[0;32m-> 1140\u001b[0m         \u001b[43mitem\u001b[49m\u001b[38;5;241;43m.\u001b[39;49m\u001b[43maudit\u001b[49m\u001b[43m(\u001b[49m\u001b[43m)\u001b[49m\n",
      "File \u001b[0;32m~/.local/lib/python3.10/site-packages/py2neo/client/bolt.py:1140\u001b[0m, in \u001b[0;36mItemizedTask.audit\u001b[0;34m(self)\u001b[0m\n\u001b[1;32m   1138\u001b[0m \u001b[38;5;28;01mdef\u001b[39;00m \u001b[38;5;21maudit\u001b[39m(\u001b[38;5;28mself\u001b[39m):\n\u001b[1;32m   1139\u001b[0m     \u001b[38;5;28;01mfor\u001b[39;00m item \u001b[38;5;129;01min\u001b[39;00m \u001b[38;5;28mself\u001b[39m\u001b[38;5;241m.\u001b[39m_items:\n\u001b[0;32m-> 1140\u001b[0m         \u001b[43mitem\u001b[49m\u001b[38;5;241;43m.\u001b[39;49m\u001b[43maudit\u001b[49m\u001b[43m(\u001b[49m\u001b[43m)\u001b[49m\n",
      "File \u001b[0;32m~/.local/lib/python3.10/site-packages/py2neo/client/bolt.py:1303\u001b[0m, in \u001b[0;36mBoltResponse.audit\u001b[0;34m(self)\u001b[0m\n\u001b[1;32m   1301\u001b[0m \u001b[38;5;28;01mif\u001b[39;00m \u001b[38;5;28mself\u001b[39m\u001b[38;5;241m.\u001b[39m_failure:\n\u001b[1;32m   1302\u001b[0m     \u001b[38;5;28mself\u001b[39m\u001b[38;5;241m.\u001b[39mset_ignored()\n\u001b[0;32m-> 1303\u001b[0m     \u001b[38;5;28;01mraise\u001b[39;00m \u001b[38;5;28mself\u001b[39m\u001b[38;5;241m.\u001b[39m_failure\n",
      "\u001b[0;31mClientError\u001b[0m: [Statement.SyntaxError] Invalid input '(': expected \")\", \"WHERE\", \"{\" or a parameter (line 2, column 49 (offset: 55))\n\"  (`https://example.com/cars/audi/a4`:`Vehicle` (@type: \"\\\"Vehicle\\\"\", brand: \"\\\"Audi\\\"\", model: \"\\\"A4\\\"\", manufacturer: \"\\\"Audi\\\"\", vehicleEngine_@type: \"\\\"EngineSpecification\\\"\", vehicleEngine_fuelType: \"\\\"Gasoline\\\"\", vehicleEngine_engineType: \"\\\"Inline-four\\\"\", vehicleEngine_engineDisplacement: \"\\\"2.0 L\\\"\", driveWheelConfiguration: \"\\\"Front-wheel drive\\\"\", fuelType: \"\\\"Gasoline\\\"\", numberOfDoors: \"\\\"4\\\"\", numberOfSeats: \"\\\"5\\\"\", vehicleTransmission: \"\\\"8-speed automatic\\\"\")),\"\n                                                 ^"
     ]
    }
   ],
   "source": [
    "import json\n",
    "from py2neo import Graph\n",
    "from pyld import jsonld\n",
    "import string\n",
    "import chardet\n",
    "\n",
    "def load_jsonld_file(file_path):\n",
    "    with open(file_path, 'rb') as file:\n",
    "        content = file.read()\n",
    "        encoding = chardet.detect(content)['encoding']\n",
    "        content = content.decode(encoding).encode('utf-8', 'ignore').decode('utf-8')\n",
    "        data = json.loads(content)\n",
    "    return data\n",
    "\n",
    "def flatten_dict(dictionary, prefix=''):\n",
    "    flattened = {}\n",
    "    for key, value in dictionary.items():\n",
    "        if isinstance(value, dict):\n",
    "            flattened.update(flatten_dict(value, f\"{prefix}{key}_\"))\n",
    "        else:\n",
    "            flattened[f\"{prefix}{key}\"] = str(value)\n",
    "    return flattened\n",
    "\n",
    "def generate_cypher_queries(data):\n",
    "    nodes = []\n",
    "    edges = []\n",
    "\n",
    "    for item in data['@graph']:\n",
    "        process_item(item, nodes, edges)\n",
    "\n",
    "    return nodes, edges\n",
    "\n",
    "def process_item(item, nodes, edges):\n",
    "    if isinstance(item, dict) and '@id' in item:\n",
    "        node = {'id': item['@id'], 'type': item.get('@type', 'Node')}  # Add a default 'type' value\n",
    "        for key, value in item.items():\n",
    "            if key != '@id':\n",
    "                if isinstance(value, list):\n",
    "                    for related in value:\n",
    "                        if isinstance(related, dict) and '@id' in related:\n",
    "                            edges.append({\n",
    "                                'source': item['@id'],\n",
    "                                'target': related['@id'],\n",
    "                                'type': key,\n",
    "                                'properties': related,\n",
    "                                'source_type': item.get('@type', 'Node'),\n",
    "                                'target_type': related.get('@type', 'Node')\n",
    "                            })\n",
    "                            process_item(related, nodes, edges)\n",
    "                elif isinstance(value, dict) and '@id' in value:\n",
    "                    edges.append({\n",
    "                        'source': item['@id'],\n",
    "                        'target': value['@id'],\n",
    "                        'type': key,\n",
    "                        'properties': value,\n",
    "                        'source_type': item.get('@type', 'Node'),\n",
    "                        'target_type': value.get('@type', 'Node')\n",
    "                    })\n",
    "                    process_item(value, nodes, edges)\n",
    "                elif isinstance(value, dict):\n",
    "                    node.update(flatten_dict(value, f\"{key}_\"))\n",
    "                else:\n",
    "                    node[key] = str(value)\n",
    "        nodes.append(node)\n",
    "    elif isinstance(item, list):\n",
    "        for subitem in item:\n",
    "            process_item(subitem, nodes, edges)\n",
    "\n",
    "\n",
    "def generate_properties_string(properties):\n",
    "    formatted_properties = []\n",
    "    for k, v in properties.items():\n",
    "        if v is not None:\n",
    "            formatted_value = json.dumps(v).replace('\\\\', '\\\\\\\\').replace('\"', '\\\\\"')\n",
    "            formatted_properties.append(f\"{k}: \\\"{formatted_value}\\\"\")\n",
    "            print(formatted_properties)\n",
    "    return ', '.join(formatted_properties)\n",
    "\n",
    "\n",
    "\n",
    "\n",
    "def create_nodes_and_edges(graph, nodes, edges):\n",
    "    create_nodes = []\n",
    "    create_edges = []\n",
    "\n",
    "    for node in nodes:\n",
    "        label = node.get(\"type\", \"Node\")\n",
    "        properties = {k: v for k, v in flatten_dict(node).items() if k != \"id\" and k != \"type\"}\n",
    "        create_nodes.append(\"(`{id}`:`{label}` ({properties}))\".format(\n",
    "            id=node['id'], label=label, properties=generate_properties_string(properties)\n",
    "        ))\n",
    "\n",
    "    for edge in edges:\n",
    "        properties = {k: str(v) if not isinstance(v, (str, int, float, bool)) else v for k, v in flatten_dict(edge[\"properties\"]).items() if k != \"@id\"}\n",
    "        create_edges.append(\"(`{source}`)-[:{type} ({properties})]->(`{target}`)\".format(\n",
    "            source=edge['source'], type=edge['type'], target=edge['target'], properties=generate_properties_string(properties)\n",
    "        ))\n",
    "\n",
    "    query = \"CREATE\\n  {}\".format(',\\n  '.join(create_nodes + create_edges))\n",
    "    print('-----------------',query)  # Add this line to print the generated query\n",
    "    graph.run(query)\n",
    "    \n",
    "    \n",
    "    \n",
    "data = load_jsonld_file(\"/home/misiur/Projects/json-cp/data4.json-ld\")\n",
    "nodes, edges = generate_cypher_queries(data)\n",
    "#print(\"Nodes:\", nodes)  # Add this line to print nodes\n",
    "#print(\"Edges:\", edges)  # Add this line to print edges\n",
    "create_nodes_and_edges(graph, nodes, edges)\n"
   ]
  },
  {
   "cell_type": "code",
   "execution_count": 7,
   "id": "be5b5e0a",
   "metadata": {},
   "outputs": [],
   "source": [
    "data = load_jsonld_file(\"/home/misiur/Projects/json-cp/20luty2.json-ld\")\n",
    "nodes, edges = generate_cypher_queries(data)\n",
    "create_nodes_and_edges(graph, nodes, edges)\n"
   ]
  },
  {
   "cell_type": "code",
   "execution_count": 161,
   "id": "65bb48db",
   "metadata": {},
   "outputs": [],
   "source": [
    "# MATCH (n)\n",
    "#OPTIONAL MATCH (n)-[r]-()\n",
    "#DELETE n, r\n"
   ]
  },
  {
   "cell_type": "code",
   "execution_count": 8,
   "id": "76c06295",
   "metadata": {
    "scrolled": true
   },
   "outputs": [
    {
     "name": "stdout",
     "output_type": "stream",
     "text": [
      "{'@context': 'https://schema.org/', '@type': 'Legislation', '@id': 'http://example.org/legislation/poland/2023/418', 'name': 'Rozporządzenie Ministra Sprawiedliwości z dnia 20 lutego 2023 r. w sprawie uprawnień funkcjonariuszy Służby Więziennej do wyżywienia podczas pełnienia służby', 'identifier': 'Dz.U. 2023 poz. 418', 'description': 'Rozporządzenie dotyczące uprawnień funkcjonariuszy Służby Więziennej do wyżywienia podczas pełnienia służby.', 'detailedDescription': 'Rozporządzenie określa normy wyżywienia przysługujące funkcjonariuszom Służby Więziennej podczas pełnienia służby, formy ich realizacji, wysokość dziennej pieniężnej wartości normy wyżywienia, jej waloryzację oraz dopuszczalne przekroczenia.', 'keywords': 'Służba Więzienna, funkcjonariusze, wyżywienie, normy wyżywienia, uprawnienia', 'legislationDate': '2023-02-20', 'legislationPassedBy': 'Minister Sprawiedliwości', 'legislationJurisdiction': 'Rzeczpospolita Polska', 'legislationReference': [{'@type': 'Legislation', '@id': 'http://example.org/legislation/poland/2022/2470', 'name': 'ustawa z dnia 9 kwietnia 2010 r. o Służbie Więziennej', 'identifier': 'Dz. U. z 2022 r. poz. 2470 oraz z 2023 r. poz. 240 i 347'}], 'hasPart': [{'@type': 'LegislationObject', '@id': 'http://example.org/legislation/poland/2023/418/1', 'name': '§ 1', 'description': 'Rozporządzenie określa normy wyżywienia przysługujące funkcjonariuszom Służby Więziennej, formy ich realizacji i inne przypadki, w których wyżywienie przysługuje.', 'keywords': 'normy wyżywienia, funkcjonariusze, Służba Więzienna'}, {'@type': 'LegislationObject', '@id': 'http://example.org/legislation/poland/2023/418/2', 'name': '§ 2', 'description': 'Definicje pojęć: jednostka, stawka budżetowa, zakład żywienia zbiorowego.', 'keywords': 'definicje, jednostka, stawka budżetowa, zakład żywienia zbiorowego'}]}\n"
     ]
    }
   ],
   "source": [
    "print(data)"
   ]
  },
  {
   "cell_type": "code",
   "execution_count": null,
   "id": "fd5cdd16",
   "metadata": {},
   "outputs": [],
   "source": []
  }
 ],
 "metadata": {
  "kernelspec": {
   "display_name": "Python 3 (ipykernel)",
   "language": "python",
   "name": "python3"
  },
  "language_info": {
   "codemirror_mode": {
    "name": "ipython",
    "version": 3
   },
   "file_extension": ".py",
   "mimetype": "text/x-python",
   "name": "python",
   "nbconvert_exporter": "python",
   "pygments_lexer": "ipython3",
   "version": "3.10.6"
  }
 },
 "nbformat": 4,
 "nbformat_minor": 5
}
