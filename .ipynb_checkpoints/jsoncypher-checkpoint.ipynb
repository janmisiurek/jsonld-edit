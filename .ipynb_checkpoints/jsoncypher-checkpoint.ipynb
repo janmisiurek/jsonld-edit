{
 "cells": [
  {
   "cell_type": "code",
   "execution_count": 118,
   "id": "afaf8703",
   "metadata": {},
   "outputs": [
    {
     "name": "stdout",
     "output_type": "stream",
     "text": [
      "Defaulting to user installation because normal site-packages is not writeable\n",
      "Requirement already satisfied: py2neo in /home/misiur/.local/lib/python3.10/site-packages (2021.2.3)\n",
      "Requirement already satisfied: urllib3 in /home/misiur/.local/lib/python3.10/site-packages (from py2neo) (1.26.14)\n",
      "Requirement already satisfied: packaging in /home/misiur/.local/lib/python3.10/site-packages (from py2neo) (23.0)\n",
      "Requirement already satisfied: six>=1.15.0 in /usr/lib/python3/dist-packages (from py2neo) (1.16.0)\n",
      "Requirement already satisfied: monotonic in /usr/lib/python3/dist-packages (from py2neo) (1.6)\n",
      "Requirement already satisfied: interchange~=2021.0.4 in /home/misiur/.local/lib/python3.10/site-packages (from py2neo) (2021.0.4)\n",
      "Requirement already satisfied: pygments>=2.0.0 in /home/misiur/.local/lib/python3.10/site-packages (from py2neo) (2.14.0)\n",
      "Requirement already satisfied: certifi in /home/misiur/.local/lib/python3.10/site-packages (from py2neo) (2022.12.7)\n",
      "Requirement already satisfied: pansi>=2020.7.3 in /home/misiur/.local/lib/python3.10/site-packages (from py2neo) (2020.7.3)\n",
      "Requirement already satisfied: pytz in /home/misiur/.local/lib/python3.10/site-packages (from interchange~=2021.0.4->py2neo) (2022.7.1)\n",
      "Defaulting to user installation because normal site-packages is not writeable\n",
      "Requirement already satisfied: neo4j in /home/misiur/.local/lib/python3.10/site-packages (5.6.0)\n",
      "Requirement already satisfied: pytz in /home/misiur/.local/lib/python3.10/site-packages (from neo4j) (2022.7.1)\n",
      "Defaulting to user installation because normal site-packages is not writeable\n",
      "Requirement already satisfied: chardet in /home/misiur/.local/lib/python3.10/site-packages (5.1.0)\n"
     ]
    }
   ],
   "source": [
    "!pip install py2neo\n",
    "!pip install neo4j\n",
    "!pip install chardet"
   ]
  },
  {
   "cell_type": "code",
   "execution_count": 115,
   "id": "dd38ee64",
   "metadata": {},
   "outputs": [],
   "source": [
    "from py2neo import Graph\n",
    "\n",
    "NEO4J_URL = \"bolt://localhost:7687\"\n",
    "NEO4J_USERNAME = \"neo4j\"\n",
    "NEO4J_PASSWORD = \"neo4jop3\"\n",
    "\n",
    "graph = Graph(NEO4J_URL, auth=(NEO4J_USERNAME, NEO4J_PASSWORD))"
   ]
  },
  {
   "cell_type": "code",
   "execution_count": 134,
   "id": "5c9be960",
   "metadata": {},
   "outputs": [],
   "source": [
    "import json\n",
    "from py2neo import Graph\n",
    "from pyld import jsonld\n",
    "import string\n",
    "\n",
    "#def load_jsonld_file(file_path):\n",
    "#    with open(file_path, 'r', encoding='utf-8') as file:\n",
    "#        data = json.load(file)\n",
    "#    return data\n",
    "import chardet\n",
    "\n",
    "def load_jsonld_file(file_path):\n",
    "    with open(file_path, 'rb') as file:\n",
    "        content = file.read()\n",
    "        encoding = chardet.detect(content)['encoding']\n",
    "        content = content.decode(encoding).encode('utf-8', 'ignore').decode('utf-8')\n",
    "        data = json.loads(content)\n",
    "    return data\n",
    "\n",
    "\n",
    "\n",
    "def flatten_dict(dictionary, prefix=''):\n",
    "    flattened = {}\n",
    "    for key, value in dictionary.items():\n",
    "        if isinstance(value, dict):\n",
    "            flattened.update(flatten_dict(value, f\"{prefix}{key}_\"))\n",
    "        else:\n",
    "            flattened[f\"{prefix}{key}\"] = value\n",
    "    return flattened\n",
    "\n",
    "\n",
    "def create_nodes_and_edges(graph, nodes, edges):\n",
    "    for node in nodes:\n",
    "        properties = {k: v for k, v in flatten_dict(node).items() if k != \"id\"}\n",
    "        graph.run(\"CREATE (n:Node {id: $id}) SET n += $props\", id=node[\"id\"], props=properties)\n",
    "\n",
    "    for edge in edges:\n",
    "        properties = {k: v for k, v in flatten_dict(edge[\"properties\"]).items() if k != \"@id\"}\n",
    "        for key, value in properties.items():\n",
    "            if isinstance(value, dict):\n",
    "                properties[key] = str(value)\n",
    "        graph.run(\"\"\"\n",
    "        MATCH (a:Node), (b:Node)\n",
    "        WHERE a.id = $source AND b.id = $target\n",
    "        CREATE (a)-[r:RELATED {type: $type}]->(b)\n",
    "        SET r += $props\n",
    "        \"\"\", source=edge['source'], target=edge['target'], type=edge['type'], props=properties)\n",
    "\n",
    "def process_item(item, nodes, edges):\n",
    "    if isinstance(item, dict) and '@id' in item:\n",
    "        node = {'id': item['@id']}\n",
    "        for key, value in item.items():\n",
    "            if key != '@id':\n",
    "                if isinstance(value, list):\n",
    "                    for related in value:\n",
    "                        if isinstance(related, dict) and '@id' in related:\n",
    "                            edges.append({\n",
    "                                'source': item['@id'],\n",
    "                                'target': related['@id'],\n",
    "                                'type': key,\n",
    "                                'properties': related\n",
    "                            })\n",
    "                            process_item(related, nodes, edges)\n",
    "                elif isinstance(value, dict):\n",
    "                    node.update(flatten_dict(value, f\"{key}_\"))\n",
    "                else:\n",
    "                    node[key] = value\n",
    "        nodes.append(node)\n",
    "    elif isinstance(item, list):\n",
    "        for subitem in item:\n",
    "            process_item(subitem, nodes, edges)\n",
    "\n",
    "def generate_cypher_queries(data):\n",
    "    nodes = []\n",
    "    edges = []\n",
    "\n",
    "    process_item(data, nodes, edges)\n",
    "\n",
    "    return nodes, edges\n",
    "\n",
    "def execute_cypher_queries(graph, queries):\n",
    "    nodes, edges = queries\n",
    "    create_nodes_and_edges(graph, nodes, edges)\n",
    "    \n",
    "data = load_jsonld_file(\"/home/misiur/Projects/json-cp/data2.json-ld\")\n",
    "nodes, edges = generate_cypher_queries(data)\n",
    "execute_cypher_queries(graph, (nodes, edges))"
   ]
  },
  {
   "cell_type": "code",
   "execution_count": 131,
   "id": "cade787c",
   "metadata": {},
   "outputs": [],
   "source": [
    "data = load_jsonld_file(\"/home/misiur/Projects/json-cp/20luty2.json-ld\")\n",
    "nodes, edges = generate_cypher_queries(data)\n",
    "execute_cypher_queries(graph, (nodes, edges))"
   ]
  },
  {
   "cell_type": "code",
   "execution_count": null,
   "id": "49f2c32d",
   "metadata": {},
   "outputs": [],
   "source": [
    "# MATCH (n)\n",
    "#OPTIONAL MATCH (n)-[r]-()\n",
    "#DELETE n, r\n"
   ]
  }
 ],
 "metadata": {
  "kernelspec": {
   "display_name": "Python 3 (ipykernel)",
   "language": "python",
   "name": "python3"
  },
  "language_info": {
   "codemirror_mode": {
    "name": "ipython",
    "version": 3
   },
   "file_extension": ".py",
   "mimetype": "text/x-python",
   "name": "python",
   "nbconvert_exporter": "python",
   "pygments_lexer": "ipython3",
   "version": "3.10.6"
  }
 },
 "nbformat": 4,
 "nbformat_minor": 5
}
