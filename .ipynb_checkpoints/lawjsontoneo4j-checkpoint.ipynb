{
 "cells": [
  {
   "cell_type": "code",
   "execution_count": 1,
   "id": "57ef3547",
   "metadata": {
    "scrolled": true
   },
   "outputs": [
    {
     "name": "stdout",
     "output_type": "stream",
     "text": [
      "Defaulting to user installation because normal site-packages is not writeable\n",
      "Requirement already satisfied: py2neo in /home/misiur/.local/lib/python3.10/site-packages (2021.2.3)\n",
      "Requirement already satisfied: packaging in /home/misiur/.local/lib/python3.10/site-packages (from py2neo) (23.0)\n",
      "Requirement already satisfied: pansi>=2020.7.3 in /home/misiur/.local/lib/python3.10/site-packages (from py2neo) (2020.7.3)\n",
      "Requirement already satisfied: interchange~=2021.0.4 in /home/misiur/.local/lib/python3.10/site-packages (from py2neo) (2021.0.4)\n",
      "Requirement already satisfied: certifi in /home/misiur/.local/lib/python3.10/site-packages (from py2neo) (2022.12.7)\n",
      "Requirement already satisfied: monotonic in /usr/lib/python3/dist-packages (from py2neo) (1.6)\n",
      "Requirement already satisfied: pygments>=2.0.0 in /home/misiur/.local/lib/python3.10/site-packages (from py2neo) (2.14.0)\n",
      "Requirement already satisfied: six>=1.15.0 in /usr/lib/python3/dist-packages (from py2neo) (1.16.0)\n",
      "Requirement already satisfied: urllib3 in /home/misiur/.local/lib/python3.10/site-packages (from py2neo) (1.26.14)\n",
      "Requirement already satisfied: pytz in /home/misiur/.local/lib/python3.10/site-packages (from interchange~=2021.0.4->py2neo) (2022.7.1)\n",
      "Defaulting to user installation because normal site-packages is not writeable\n",
      "Requirement already satisfied: neo4j in /home/misiur/.local/lib/python3.10/site-packages (5.6.0)\n",
      "Requirement already satisfied: pytz in /home/misiur/.local/lib/python3.10/site-packages (from neo4j) (2022.7.1)\n",
      "Defaulting to user installation because normal site-packages is not writeable\n",
      "Requirement already satisfied: chardet in /home/misiur/.local/lib/python3.10/site-packages (5.1.0)\n"
     ]
    }
   ],
   "source": [
    "!pip install py2neo\n",
    "!pip install neo4j\n",
    "!pip install chardet"
   ]
  },
  {
   "cell_type": "code",
   "execution_count": 1,
   "id": "addbd6be",
   "metadata": {},
   "outputs": [],
   "source": [
    "from py2neo import Graph\n",
    "\n",
    "NEO4J_URL = \"bolt://localhost:7687\"\n",
    "NEO4J_USERNAME = \"neo4j\"\n",
    "NEO4J_PASSWORD = \"neo4jop3\"\n",
    "\n",
    "graph = Graph(NEO4J_URL, auth=(NEO4J_USERNAME, NEO4J_PASSWORD))"
   ]
  },
  {
   "cell_type": "code",
   "execution_count": 9,
   "id": "18a04877",
   "metadata": {
    "scrolled": true
   },
   "outputs": [],
   "source": [
    "import json\n",
    "from py2neo import Graph, Node, Relationship\n",
    "\n",
    "def load_jsonld_file(file_path):\n",
    "    with open(file_path, 'r') as file:\n",
    "        content = file.read()\n",
    "        data = json.loads(content)\n",
    "    return data['@graph']\n",
    "\n",
    "\n",
    "\n",
    "def process_item(item, graph, nodes, stack=None):\n",
    "    if stack is None:\n",
    "        stack = []\n",
    "\n",
    "    if isinstance(item, dict) and '@id' in item:\n",
    "        node_type = item.get('@type', 'Node')\n",
    "        if isinstance(node_type, list):\n",
    "            node_type = \"_\".join(node_type)\n",
    "        if isinstance(node_type, str):\n",
    "            node = Node(node_type, id=item['@id'])\n",
    "            nodes[item['@id']] = node\n",
    "\n",
    "            for key, value in item.items():\n",
    "                if key not in ('@id', '@type'):\n",
    "                    if not (isinstance(value, dict) or isinstance(value, list)):\n",
    "                        node[key] = value\n",
    "\n",
    "                    if isinstance(value, dict) and '@id' in value:\n",
    "                        if value['@id'] in nodes:\n",
    "                            related_node = nodes[value['@id']]\n",
    "                            relationship = Relationship(node, key, related_node)\n",
    "                            graph.create(relationship)\n",
    "                        else:\n",
    "                            stack.append((node, key, value))\n",
    "                        process_item(value, graph, nodes, stack)\n",
    "                    elif isinstance(value, list):\n",
    "                        for related in value:\n",
    "                            if isinstance(related, dict) and '@id' in related:\n",
    "                                if related['@id'] in nodes:\n",
    "                                    related_node = nodes[related['@id']]\n",
    "                                    relationship = Relationship(node, key, related_node)\n",
    "                                    graph.create(relationship)\n",
    "                                else:\n",
    "                                    stack.append((node, key, related))\n",
    "                                process_item(related, graph, nodes, stack)\n",
    "\n",
    "            # Create relationships for nodes that are already in the nodes dictionary\n",
    "            for key, value in item.items():\n",
    "                if key not in ('@id', '@type'):\n",
    "                    if isinstance(value, dict) and '@id' in value:\n",
    "                        related_node_id = value['@id']\n",
    "                        if related_node_id in nodes:\n",
    "                            related_node = nodes[related_node_id]\n",
    "                            relationship = Relationship(node, key, related_node)\n",
    "                            graph.create(relationship)\n",
    "\n",
    "            # Process nested \"hasPart\" items\n",
    "            if \"hasPart\" in item:\n",
    "                for part in item[\"hasPart\"]:\n",
    "                    process_item(part, graph, nodes, stack)\n",
    "\n",
    "        else:\n",
    "            print(f\"Error: @type field for item {item['@id']} is not a string\")\n",
    "    elif isinstance(item, list):\n",
    "        for subitem in item:\n",
    "            process_item(subitem, graph, nodes, stack)\n",
    "\n",
    "\n",
    "\n",
    "data = load_jsonld_file(\"/home/misiur/Projects/json-cp/data/saga.jsonld\")\n",
    "nodes = {}\n",
    "for item in data:\n",
    "    process_item(item, graph, nodes)"
   ]
  },
  {
   "cell_type": "code",
   "execution_count": 77,
   "id": "be5b5e0a",
   "metadata": {},
   "outputs": [],
   "source": [
    "data = load_jsonld_file(\"/home/misiur/Projects/json-cp/data/saga.jsonld\")\n",
    "process_item(data['@graph'], graph, nodes)\n"
   ]
  },
  {
   "cell_type": "code",
   "execution_count": 7,
   "id": "65bb48db",
   "metadata": {},
   "outputs": [
    {
     "name": "stdout",
     "output_type": "stream",
     "text": [
      "{'@id': '_:law', '@type': 'Legislation', 'name': 'Nazwa aktu prawnego', 'date': '2023-03-19', 'legislationJurisdiction': {'@id': '_:jurisdiction', '@type': 'Country', 'name': 'Polska'}, 'minister': {'@id': '_:minister', '@type': 'Person', 'name': 'Jan Kowalski'}, 'author': {'@id': '_:author', '@type': 'Person', 'name': 'Adam Nowak'}, 'status': {'@id': '_:status', '@type': 'LegalStatus', 'name': 'Status prawa', 'description': 'Opis statusu prawa'}, 'description': 'Opis aktu prawnego', 'hasPart': [{'@id': '_:paragraph1', '@type': 'Legislation', 'name': 'Paragraf 1', 'description': 'Opis paragrafu 1', 'text': 'Treść paragrafu 1', 'hasPart': [{'@id': '_:paragraph1.1', '@type': 'Legislation', 'name': 'Ustęp 1', 'text': 'Treść ustępu 1', 'hasPart': [{'@id': '_:paragraph1.1.a', '@type': 'Legislation', 'name': 'Punkt a', 'text': 'Treść punktu a'}, {'@id': '_:paragraph1.1.b', '@type': 'Legislation', 'name': 'Punkt b', 'text': 'Treść punktu b'}]}, {'@id': '_:paragraph1.2', '@type': 'Legislation', 'name': 'Ustęp 2', 'text': 'Treść ustępu 2', 'hasPart': [{'@id': '_:paragraph1.2.a', '@type': 'Legislation', 'name': 'Punkt a', 'text': 'Treść punktu a'}, {'@id': '_:paragraph1.2.b', '@type': 'Legislation', 'name': 'Punkt b', 'text': 'Treść punktu b'}]}]}, {'@id': '_:paragraph2', '@type': 'Legislation', 'name': 'Paragraf 2', 'description': 'Opis paragrafu 2', 'text': 'Treść paragrafu 2', 'hasPart': [{'@id': '_:paragraph2.1', '@type': 'Legislation', 'name': 'Ustęp 1', 'text': 'Treść ustępu 1', 'hasPart': [{'@id': '_:paragraph2.1.a', '@type': 'Legislation', 'name': 'Punkt a', 'text': 'Treść punktu a'}, {'@id': '_:paragraph2.1.b', '@type': 'Legislation', 'name': 'Punkt b', 'text': 'Treść punktu b'}]}, {'@id': '_:paragraph2.2', '@type': 'Legislation', 'name': 'Ustęp 2', 'text': 'Treść ustępu 2', 'hasPart': [{'@id': '_:paragraph2.2.a', '@type': 'Legislation', 'name': 'Punkt a', 'text': 'Treść punktu a'}, {'@id': '_:paragraph2.2.b', '@type': 'Legislation', 'name': 'Punkt b', 'text': 'Treść punktu b'}]}]}]}\n"
     ]
    }
   ],
   "source": [
    "data = load_jsonld_file(\"/home/misiur/Projects/accessible leges/example.jsonld\")\n",
    "nodes = {}\n",
    "\n",
    "# Loop through all items in the JSON-LD file\n",
    "for item in data:\n",
    "    print(item)\n",
    "    process_item(item, graph, nodes)"
   ]
  },
  {
   "cell_type": "code",
   "execution_count": 5,
   "id": "76c06295",
   "metadata": {
    "scrolled": true
   },
   "outputs": [
    {
     "name": "stdout",
     "output_type": "stream",
     "text": [
      "{'@context': 'http://schema.org/', '@graph': [{'@id': '_:law', '@type': 'Legislation', 'name': 'Nazwa aktu prawnego', 'date': '2023-03-19', 'legislationJurisdiction': {'@id': '_:jurisdiction', '@type': 'Country', 'name': 'Polska'}, 'minister': {'@id': '_:minister', '@type': 'Person', 'name': 'Jan Kowalski'}, 'author': {'@id': '_:author', '@type': 'Person', 'name': 'Adam Nowak'}, 'status': {'@id': '_:status', '@type': 'LegalStatus', 'name': 'Status prawa', 'description': 'Opis statusu prawa'}, 'description': 'Opis aktu prawnego', 'hasPart': [{'@id': '_:paragraph1', '@type': 'Legislation', 'name': 'Paragraf 1', 'description': 'Opis paragrafu 1', 'text': 'Treść paragrafu 1', 'hasPart': [{'@id': '_:paragraph1.1', '@type': 'Legislation', 'name': 'Ustęp 1', 'text': 'Treść ustępu 1', 'hasPart': [{'@id': '_:paragraph1.1.a', '@type': 'Legislation', 'name': 'Punkt a', 'text': 'Treść punktu a'}, {'@id': '_:paragraph1.1.b', '@type': 'Legislation', 'name': 'Punkt b', 'text': 'Treść punktu b'}]}, {'@id': '_:paragraph1.2', '@type': 'Legislation', 'name': 'Ustęp 2', 'text': 'Treść ustępu 2', 'hasPart': [{'@id': '_:paragraph1.2.a', '@type': 'Legislation', 'name': 'Punkt a', 'text': 'Treść punktu a'}, {'@id': '_:paragraph1.2.b', '@type': 'Legislation', 'name': 'Punkt b', 'text': 'Treść punktu b'}]}]}, {'@id': '_:paragraph2', '@type': 'Legislation', 'name': 'Paragraf 2', 'description': 'Opis paragrafu 2', 'text': 'Treść paragrafu 2', 'hasPart': [{'@id': '_:paragraph2.1', '@type': 'Legislation', 'name': 'Ustęp 1', 'text': 'Treść ustępu 1', 'hasPart': [{'@id': '_:paragraph2.1.a', '@type': 'Legislation', 'name': 'Punkt a', 'text': 'Treść punktu a'}, {'@id': '_:paragraph2.1.b', '@type': 'Legislation', 'name': 'Punkt b', 'text': 'Treść punktu b'}]}, {'@id': '_:paragraph2.2', '@type': 'Legislation', 'name': 'Ustęp 2', 'text': 'Treść ustępu 2', 'hasPart': [{'@id': '_:paragraph2.2.a', '@type': 'Legislation', 'name': 'Punkt a', 'text': 'Treść punktu a'}, {'@id': '_:paragraph2.2.b', '@type': 'Legislation', 'name': 'Punkt b', 'text': 'Treść punktu b'}]}]}]}]}\n"
     ]
    }
   ],
   "source": [
    "print(data)"
   ]
  },
  {
   "cell_type": "code",
   "execution_count": null,
   "id": "fd5cdd16",
   "metadata": {},
   "outputs": [],
   "source": []
  }
 ],
 "metadata": {
  "kernelspec": {
   "display_name": "Python 3 (ipykernel)",
   "language": "python",
   "name": "python3"
  },
  "language_info": {
   "codemirror_mode": {
    "name": "ipython",
    "version": 3
   },
   "file_extension": ".py",
   "mimetype": "text/x-python",
   "name": "python",
   "nbconvert_exporter": "python",
   "pygments_lexer": "ipython3",
   "version": "3.10.6"
  }
 },
 "nbformat": 4,
 "nbformat_minor": 5
}
